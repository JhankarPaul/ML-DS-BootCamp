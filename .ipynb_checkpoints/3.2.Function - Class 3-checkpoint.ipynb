{
 "cells": [
  {
   "cell_type": "markdown",
   "id": "19d6d41f",
   "metadata": {},
   "source": [
    "# Make a Function        [def functionname(parameter) : ]"
   ]
  },
  {
   "cell_type": "code",
   "execution_count": 1,
   "id": "c4cfb48c",
   "metadata": {},
   "outputs": [
    {
     "ename": "SyntaxError",
     "evalue": "expected ':' (1258476857.py, line 1)",
     "output_type": "error",
     "traceback": [
      "\u001b[1;36m  Cell \u001b[1;32mIn[1], line 1\u001b[1;36m\u001b[0m\n\u001b[1;33m    def my_pet(name)\u001b[0m\n\u001b[1;37m                    ^\u001b[0m\n\u001b[1;31mSyntaxError\u001b[0m\u001b[1;31m:\u001b[0m expected ':'\n"
     ]
    }
   ],
   "source": [
    "def my_pet(name)\n",
    "    return name"
   ]
  },
  {
   "cell_type": "code",
   "execution_count": 2,
   "id": "cd92837c",
   "metadata": {},
   "outputs": [],
   "source": [
    "def my_pet(name):\n",
    "    return name"
   ]
  },
  {
   "cell_type": "markdown",
   "id": "a31c5583",
   "metadata": {},
   "source": [
    "# Calling a Function"
   ]
  },
  {
   "cell_type": "code",
   "execution_count": 3,
   "id": "82007204",
   "metadata": {},
   "outputs": [
    {
     "data": {
      "text/plain": [
       "'tiger'"
      ]
     },
     "execution_count": 3,
     "metadata": {},
     "output_type": "execute_result"
    }
   ],
   "source": [
    "my_pet(\"tiger\")"
   ]
  },
  {
   "cell_type": "code",
   "execution_count": 4,
   "id": "e443a0f1",
   "metadata": {},
   "outputs": [
    {
     "data": {
      "text/plain": [
       "'tom'"
      ]
     },
     "execution_count": 4,
     "metadata": {},
     "output_type": "execute_result"
    }
   ],
   "source": [
    "my_pet(\"tom\")"
   ]
  },
  {
   "cell_type": "code",
   "execution_count": 5,
   "id": "6b0981f2",
   "metadata": {},
   "outputs": [],
   "source": [
    "def manush(name,age,prof):\n",
    "    return name,age,prof"
   ]
  },
  {
   "cell_type": "code",
   "execution_count": 6,
   "id": "8579af60",
   "metadata": {},
   "outputs": [
    {
     "data": {
      "text/plain": [
       "('shatabdi', 24, 'student')"
      ]
     },
     "execution_count": 6,
     "metadata": {},
     "output_type": "execute_result"
    }
   ],
   "source": [
    "manush('shatabdi',24,'student')"
   ]
  },
  {
   "cell_type": "code",
   "execution_count": 8,
   "id": "fed87f4d",
   "metadata": {},
   "outputs": [],
   "source": [
    "n,a,p=manush('shatabdi',24,'student')"
   ]
  },
  {
   "cell_type": "code",
   "execution_count": 9,
   "id": "d5591214",
   "metadata": {},
   "outputs": [
    {
     "data": {
      "text/plain": [
       "'shatabdi'"
      ]
     },
     "execution_count": 9,
     "metadata": {},
     "output_type": "execute_result"
    }
   ],
   "source": [
    "n"
   ]
  },
  {
   "cell_type": "code",
   "execution_count": 10,
   "id": "a9639282",
   "metadata": {},
   "outputs": [
    {
     "data": {
      "text/plain": [
       "24"
      ]
     },
     "execution_count": 10,
     "metadata": {},
     "output_type": "execute_result"
    }
   ],
   "source": [
    "a"
   ]
  },
  {
   "cell_type": "code",
   "execution_count": 11,
   "id": "9b6bf33a",
   "metadata": {},
   "outputs": [
    {
     "data": {
      "text/plain": [
       "'student'"
      ]
     },
     "execution_count": 11,
     "metadata": {},
     "output_type": "execute_result"
    }
   ],
   "source": [
    "p"
   ]
  },
  {
   "cell_type": "code",
   "execution_count": 13,
   "id": "48d0c229",
   "metadata": {},
   "outputs": [
    {
     "ename": "TypeError",
     "evalue": "manush() missing 1 required positional argument: 'prof'",
     "output_type": "error",
     "traceback": [
      "\u001b[1;31m---------------------------------------------------------------------------\u001b[0m",
      "\u001b[1;31mTypeError\u001b[0m                                 Traceback (most recent call last)",
      "Cell \u001b[1;32mIn[13], line 1\u001b[0m\n\u001b[1;32m----> 1\u001b[0m n,a,p\u001b[38;5;241m=\u001b[39m\u001b[43mmanush\u001b[49m\u001b[43m(\u001b[49m\u001b[38;5;124;43m'\u001b[39;49m\u001b[38;5;124;43mshatabdi\u001b[39;49m\u001b[38;5;124;43m'\u001b[39;49m\u001b[43m,\u001b[49m\u001b[38;5;241;43m24\u001b[39;49m\u001b[43m)\u001b[49m\n",
      "\u001b[1;31mTypeError\u001b[0m: manush() missing 1 required positional argument: 'prof'"
     ]
    }
   ],
   "source": [
    "n,a,p=manush('shatabdi',24)"
   ]
  },
  {
   "cell_type": "code",
   "execution_count": 22,
   "id": "64d03fc9",
   "metadata": {},
   "outputs": [
    {
     "data": {
      "text/plain": [
       "'shatabdi'"
      ]
     },
     "execution_count": 22,
     "metadata": {},
     "output_type": "execute_result"
    }
   ],
   "source": [
    "def manush(name,age,prof='student'):\n",
    "    return name,age,prof\n",
    "n,a,p=manush('shatabdi',24)\n",
    "n"
   ]
  },
  {
   "cell_type": "code",
   "execution_count": 23,
   "id": "074457d6",
   "metadata": {},
   "outputs": [
    {
     "data": {
      "text/plain": [
       "'student'"
      ]
     },
     "execution_count": 23,
     "metadata": {},
     "output_type": "execute_result"
    }
   ],
   "source": [
    "p"
   ]
  },
  {
   "cell_type": "code",
   "execution_count": 24,
   "id": "a572ba01",
   "metadata": {},
   "outputs": [
    {
     "data": {
      "text/plain": [
       "'engineer'"
      ]
     },
     "execution_count": 24,
     "metadata": {},
     "output_type": "execute_result"
    }
   ],
   "source": [
    "def manush(name,age,prof='student'):\n",
    "    return name,age,prof\n",
    "n,a,p=manush('shatabdi',24,'engineer')\n",
    "p"
   ]
  },
  {
   "cell_type": "markdown",
   "id": "adeed602",
   "metadata": {},
   "source": [
    "# Local Variable, Global Variable"
   ]
  },
  {
   "cell_type": "code",
   "execution_count": 26,
   "id": "6950c586",
   "metadata": {},
   "outputs": [
    {
     "name": "stdout",
     "output_type": "stream",
     "text": [
      "14\n"
     ]
    }
   ],
   "source": [
    "def numbers(n):\n",
    "    n=12    #local\n",
    "    return n\n",
    "n=14        #global\n",
    "print(n)"
   ]
  },
  {
   "cell_type": "code",
   "execution_count": 27,
   "id": "541de2d1",
   "metadata": {},
   "outputs": [
    {
     "name": "stdout",
     "output_type": "stream",
     "text": [
      "12\n"
     ]
    }
   ],
   "source": [
    "def numbers(n):\n",
    "    n=12    #local\n",
    "    return n\n",
    "n=14        #global\n",
    "print(numbers(16))"
   ]
  },
  {
   "cell_type": "code",
   "execution_count": 29,
   "id": "f5a90ca6",
   "metadata": {},
   "outputs": [
    {
     "name": "stdout",
     "output_type": "stream",
     "text": [
      "12\n"
     ]
    }
   ],
   "source": [
    "def numbers(n):\n",
    "    n=12    #local\n",
    "    return n\n",
    "n=14        #global\n",
    "print(numbers(n))"
   ]
  },
  {
   "cell_type": "code",
   "execution_count": 30,
   "id": "5c6b7b4d",
   "metadata": {},
   "outputs": [
    {
     "name": "stdout",
     "output_type": "stream",
     "text": [
      "16\n"
     ]
    }
   ],
   "source": [
    "def numbers(n):\n",
    "    return n\n",
    "n=14     \n",
    "print(numbers(16))"
   ]
  },
  {
   "cell_type": "code",
   "execution_count": 31,
   "id": "6b4e803e",
   "metadata": {},
   "outputs": [
    {
     "name": "stdout",
     "output_type": "stream",
     "text": [
      "20\n"
     ]
    }
   ],
   "source": [
    "def numbers(n):\n",
    "    return n\n",
    "n=14     \n",
    "print(numbers(20))"
   ]
  },
  {
   "cell_type": "code",
   "execution_count": 33,
   "id": "a460610b",
   "metadata": {},
   "outputs": [
    {
     "ename": "NameError",
     "evalue": "name 'x' is not defined",
     "output_type": "error",
     "traceback": [
      "\u001b[1;31m---------------------------------------------------------------------------\u001b[0m",
      "\u001b[1;31mNameError\u001b[0m                                 Traceback (most recent call last)",
      "Cell \u001b[1;32mIn[33], line 3\u001b[0m\n\u001b[0;32m      1\u001b[0m \u001b[38;5;28;01mdef\u001b[39;00m \u001b[38;5;21mnumbers\u001b[39m(x):\n\u001b[0;32m      2\u001b[0m     \u001b[38;5;28;01mreturn\u001b[39;00m x    \n\u001b[1;32m----> 3\u001b[0m \u001b[38;5;28mprint\u001b[39m(\u001b[43mx\u001b[49m)\n",
      "\u001b[1;31mNameError\u001b[0m: name 'x' is not defined"
     ]
    }
   ],
   "source": [
    "def numbers(x):\n",
    "    return x    \n",
    "print(x)"
   ]
  },
  {
   "cell_type": "code",
   "execution_count": 34,
   "id": "a8cae82b",
   "metadata": {},
   "outputs": [
    {
     "name": "stdout",
     "output_type": "stream",
     "text": [
      "10\n",
      "24\n"
     ]
    }
   ],
   "source": [
    "def numbers(i):\n",
    "    i+=2\n",
    "    return i\n",
    "j=10\n",
    "print(j)\n",
    "print(numbers(22))"
   ]
  }
 ],
 "metadata": {
  "kernelspec": {
   "display_name": "Python 3 (ipykernel)",
   "language": "python",
   "name": "python3"
  },
  "language_info": {
   "codemirror_mode": {
    "name": "ipython",
    "version": 3
   },
   "file_extension": ".py",
   "mimetype": "text/x-python",
   "name": "python",
   "nbconvert_exporter": "python",
   "pygments_lexer": "ipython3",
   "version": "3.10.10"
  }
 },
 "nbformat": 4,
 "nbformat_minor": 5
}
