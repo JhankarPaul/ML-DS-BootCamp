{
 "cells": [
  {
   "cell_type": "code",
   "execution_count": 2,
   "id": "c73d3cde",
   "metadata": {},
   "outputs": [
    {
     "name": "stdout",
     "output_type": "stream",
     "text": [
      "5\n",
      "1\n",
      "2\n",
      "3\n",
      "4\n",
      "5\n",
      "[1, 2, 3, 4, 5]\n"
     ]
    }
   ],
   "source": [
    "lst=[]\n",
    "no_of_array_element=int(input())\n",
    "for i in range(no_of_array_element):\n",
    "    elements=int(input())\n",
    "    lst.append(elements)\n",
    "print(lst)"
   ]
  },
  {
   "cell_type": "code",
   "execution_count": 6,
   "id": "58bf0352",
   "metadata": {},
   "outputs": [
    {
     "name": "stdout",
     "output_type": "stream",
     "text": [
      "1 2 3 4 5 6 7 8 9\n",
      "[1, 2, 3, 4, 5, 6, 7, 8, 9]\n"
     ]
    }
   ],
   "source": [
    "ls1=list(map(int,input().strip().split()))\n",
    "print(ls1)"
   ]
  },
  {
   "cell_type": "code",
   "execution_count": 7,
   "id": "08843195",
   "metadata": {},
   "outputs": [],
   "source": [
    "def inlist_input():\n",
    "    lin=list(map(int,input().strip().split()))\n",
    "    return lin"
   ]
  },
  {
   "cell_type": "code",
   "execution_count": 11,
   "id": "d37edf4d",
   "metadata": {},
   "outputs": [
    {
     "name": "stdout",
     "output_type": "stream",
     "text": [
      "1 2 3 4 5 6 7 8\n",
      "a = [1, 2, 3, 4, 5, 6, 7, 8]\n"
     ]
    }
   ],
   "source": [
    "a=inlist_input()\n",
    "print(\"a =\",a)"
   ]
  },
  {
   "cell_type": "code",
   "execution_count": 13,
   "id": "6c381f29",
   "metadata": {},
   "outputs": [],
   "source": [
    "def fltlist_input():\n",
    "    lin=list(map(float,input().strip().split()))\n",
    "    return lin"
   ]
  },
  {
   "cell_type": "code",
   "execution_count": 23,
   "id": "f39f48d8",
   "metadata": {},
   "outputs": [
    {
     "name": "stdout",
     "output_type": "stream",
     "text": [
      "1 2 3 4\n",
      "b = [1.0, 2.0, 3.0, 4.0]\n"
     ]
    }
   ],
   "source": [
    "b=fltlist_input()\n",
    "print(\"b =\",b)"
   ]
  },
  {
   "cell_type": "code",
   "execution_count": 24,
   "id": "185d4a60",
   "metadata": {},
   "outputs": [],
   "source": [
    "def strlist_input():\n",
    "    lin=list(map(input().strip().split()))\n",
    "    return lin"
   ]
  },
  {
   "cell_type": "code",
   "execution_count": 25,
   "id": "26b2cfb5",
   "metadata": {},
   "outputs": [
    {
     "name": "stdout",
     "output_type": "stream",
     "text": [
      "shtabdi paul jhankar\n"
     ]
    },
    {
     "ename": "TypeError",
     "evalue": "map() must have at least two arguments.",
     "output_type": "error",
     "traceback": [
      "\u001b[1;31m---------------------------------------------------------------------------\u001b[0m",
      "\u001b[1;31mTypeError\u001b[0m                                 Traceback (most recent call last)",
      "Cell \u001b[1;32mIn[25], line 1\u001b[0m\n\u001b[1;32m----> 1\u001b[0m c\u001b[38;5;241m=\u001b[39m\u001b[43mstrlist_input\u001b[49m\u001b[43m(\u001b[49m\u001b[43m)\u001b[49m\n\u001b[0;32m      2\u001b[0m \u001b[38;5;28mprint\u001b[39m(\u001b[38;5;124m\"\u001b[39m\u001b[38;5;124mc =\u001b[39m\u001b[38;5;124m\"\u001b[39m,c)\n",
      "Cell \u001b[1;32mIn[24], line 2\u001b[0m, in \u001b[0;36mstrlist_input\u001b[1;34m()\u001b[0m\n\u001b[0;32m      1\u001b[0m \u001b[38;5;28;01mdef\u001b[39;00m \u001b[38;5;21mstrlist_input\u001b[39m():\n\u001b[1;32m----> 2\u001b[0m     lin\u001b[38;5;241m=\u001b[39m\u001b[38;5;28mlist\u001b[39m(\u001b[38;5;28;43mmap\u001b[39;49m\u001b[43m(\u001b[49m\u001b[38;5;28;43minput\u001b[39;49m\u001b[43m(\u001b[49m\u001b[43m)\u001b[49m\u001b[38;5;241;43m.\u001b[39;49m\u001b[43mstrip\u001b[49m\u001b[43m(\u001b[49m\u001b[43m)\u001b[49m\u001b[38;5;241;43m.\u001b[39;49m\u001b[43msplit\u001b[49m\u001b[43m(\u001b[49m\u001b[43m)\u001b[49m\u001b[43m)\u001b[49m)\n\u001b[0;32m      3\u001b[0m     \u001b[38;5;28;01mreturn\u001b[39;00m lin\n",
      "\u001b[1;31mTypeError\u001b[0m: map() must have at least two arguments."
     ]
    }
   ],
   "source": [
    "c=strlist_input()\n",
    "print(\"c =\",c)"
   ]
  },
  {
   "cell_type": "code",
   "execution_count": 26,
   "id": "61b7c58c",
   "metadata": {},
   "outputs": [
    {
     "name": "stdout",
     "output_type": "stream",
     "text": [
      "shatabdi paul jhankar\n",
      "c = ['shatabdi', 'paul', 'jhankar']\n"
     ]
    }
   ],
   "source": [
    "def strlist_input():\n",
    "    lin=list(input().strip().split())\n",
    "    return lin\n",
    "c=strlist_input()\n",
    "print(\"c =\",c)"
   ]
  },
  {
   "cell_type": "code",
   "execution_count": 31,
   "id": "391211a0",
   "metadata": {},
   "outputs": [
    {
     "name": "stdout",
     "output_type": "stream",
     "text": [
      "3.33 3.44 3.93 3.78 3.83\n",
      "gpa = [3.33, 3.44, 3.93, 3.78, 3.83]\n",
      "18.31\n",
      "CGPA = 3.662\n"
     ]
    }
   ],
   "source": [
    "gpa=fltlist_input()\n",
    "print(\"gpa =\",gpa)\n",
    "summ=0\n",
    "for i in range(len(gpa)):\n",
    "    summ=summ+gpa[i]\n",
    "    i+=1\n",
    "print(summ)\n",
    "cgpa=summ/len(gpa)\n",
    "print(\"CGPA =\",cgpa)"
   ]
  }
 ],
 "metadata": {
  "kernelspec": {
   "display_name": "Python 3 (ipykernel)",
   "language": "python",
   "name": "python3"
  },
  "language_info": {
   "codemirror_mode": {
    "name": "ipython",
    "version": 3
   },
   "file_extension": ".py",
   "mimetype": "text/x-python",
   "name": "python",
   "nbconvert_exporter": "python",
   "pygments_lexer": "ipython3",
   "version": "3.10.10"
  }
 },
 "nbformat": 4,
 "nbformat_minor": 5
}
