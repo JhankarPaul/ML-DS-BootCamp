{
 "cells": [
  {
   "cell_type": "code",
   "execution_count": 1,
   "id": "918710d3",
   "metadata": {},
   "outputs": [
    {
     "name": "stdout",
     "output_type": "stream",
     "text": [
      "36 -12 288 0.5\n"
     ]
    }
   ],
   "source": [
    "class Calculator:\n",
    "    def add(self,a,b):\n",
    "        return a+b\n",
    "    def sub(self,a,b):\n",
    "        return a-b\n",
    "    def mul(self,a,b):\n",
    "        return a*b\n",
    "    def div(self,a,b):\n",
    "        return a/b\n",
    "calc=Calculator()\n",
    "a=calc.add(12,24)\n",
    "s=calc.sub(12,24)\n",
    "m=calc.mul(12,24)\n",
    "d=calc.div(12,24)\n",
    "print(a,s,m,d)"
   ]
  },
  {
   "cell_type": "markdown",
   "id": "3adcad5f",
   "metadata": {},
   "source": [
    "# using _init_"
   ]
  },
  {
   "cell_type": "code",
   "execution_count": 2,
   "id": "83e2f29a",
   "metadata": {},
   "outputs": [
    {
     "name": "stdout",
     "output_type": "stream",
     "text": [
      "36 -12 288 0.5\n"
     ]
    }
   ],
   "source": [
    "class Calculator:\n",
    "    def __init__(self,a,b):\n",
    "        self.a=a\n",
    "        self.b=b\n",
    "    def add(self):\n",
    "        return self.a + self.b\n",
    "    def sub(self):\n",
    "        return self.a - self.b\n",
    "    def mul(self):\n",
    "        return self.a * self.b\n",
    "    def div(self):\n",
    "        return self.a / self.b\n",
    "calc=Calculator(12,24)\n",
    "ad=calc.add()\n",
    "s=calc.sub()\n",
    "m=calc.mul()\n",
    "d=calc.div()\n",
    "print(a,s,m,d)"
   ]
  },
  {
   "cell_type": "markdown",
   "id": "1ab7747f",
   "metadata": {},
   "source": [
    "# Inheritance"
   ]
  },
  {
   "cell_type": "code",
   "execution_count": 9,
   "id": "3b2470a8",
   "metadata": {},
   "outputs": [
    {
     "name": "stdout",
     "output_type": "stream",
     "text": [
      "-12\n",
      "26 144\n"
     ]
    }
   ],
   "source": [
    "class Calculator:            #parent class\n",
    "    def add(self,a,b):\n",
    "        return a+b\n",
    "    def sub(self,a,b):\n",
    "        return a-b\n",
    "    def mul(self,a,b):\n",
    "        return a*b\n",
    "    def div(self,a,b):\n",
    "        return a/b\n",
    "class Square(Calculator):    #child class\n",
    "    def sqr(self,a):\n",
    "        return a*a\n",
    "calc=Calculator()\n",
    "s=calc.sub(12,24)\n",
    "print(s)\n",
    "my_calc=Square()\n",
    "a=my_calc.add(12,14)\n",
    "sq=my_calc.sqr(12)\n",
    "print(a,sq)"
   ]
  }
 ],
 "metadata": {
  "kernelspec": {
   "display_name": "Python 3 (ipykernel)",
   "language": "python",
   "name": "python3"
  },
  "language_info": {
   "codemirror_mode": {
    "name": "ipython",
    "version": 3
   },
   "file_extension": ".py",
   "mimetype": "text/x-python",
   "name": "python",
   "nbconvert_exporter": "python",
   "pygments_lexer": "ipython3",
   "version": "3.10.10"
  }
 },
 "nbformat": 4,
 "nbformat_minor": 5
}
