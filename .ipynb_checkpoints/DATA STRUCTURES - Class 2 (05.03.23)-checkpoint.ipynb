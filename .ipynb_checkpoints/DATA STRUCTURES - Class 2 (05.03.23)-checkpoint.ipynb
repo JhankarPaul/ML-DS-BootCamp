{
 "cells": [
  {
   "cell_type": "markdown",
   "id": "1aebb8e4",
   "metadata": {},
   "source": [
    "# LIST [item1,item2,item3,....,itemn]"
   ]
  },
  {
   "cell_type": "code",
   "execution_count": 2,
   "id": "c41e4f15",
   "metadata": {},
   "outputs": [],
   "source": [
    "list_1=['buet','ruet','kuet','cuet']\n",
    "list_2=[1,2,3,4]"
   ]
  },
  {
   "cell_type": "code",
   "execution_count": 3,
   "id": "10e272b0",
   "metadata": {},
   "outputs": [
    {
     "data": {
      "text/plain": [
       "'ruet'"
      ]
     },
     "execution_count": 3,
     "metadata": {},
     "output_type": "execute_result"
    }
   ],
   "source": [
    "#list index\n",
    "list_1[1]"
   ]
  },
  {
   "cell_type": "code",
   "execution_count": 4,
   "id": "3c659554",
   "metadata": {},
   "outputs": [
    {
     "data": {
      "text/plain": [
       "3"
      ]
     },
     "execution_count": 4,
     "metadata": {},
     "output_type": "execute_result"
    }
   ],
   "source": [
    "list_2[2]"
   ]
  },
  {
   "cell_type": "code",
   "execution_count": 5,
   "id": "273b14a1",
   "metadata": {},
   "outputs": [
    {
     "data": {
      "text/plain": [
       "'buet'"
      ]
     },
     "execution_count": 5,
     "metadata": {},
     "output_type": "execute_result"
    }
   ],
   "source": [
    "list_1[0]"
   ]
  },
  {
   "cell_type": "code",
   "execution_count": 6,
   "id": "aeeb272d",
   "metadata": {},
   "outputs": [
    {
     "ename": "NameError",
     "evalue": "name 'Shatabdi' is not defined",
     "output_type": "error",
     "traceback": [
      "\u001b[1;31m---------------------------------------------------------------------------\u001b[0m",
      "\u001b[1;31mNameError\u001b[0m                                 Traceback (most recent call last)",
      "Cell \u001b[1;32mIn[6], line 1\u001b[0m\n\u001b[1;32m----> 1\u001b[0m famber\u001b[38;5;241m=\u001b[39m[\u001b[43mShatabdi\u001b[49m,Sharaswati,Shakti,Sharmistha]\n",
      "\u001b[1;31mNameError\u001b[0m: name 'Shatabdi' is not defined"
     ]
    }
   ],
   "source": [
    "famber=[Shatabdi,Sharaswati,Shakti,Sharmistha]"
   ]
  },
  {
   "cell_type": "code",
   "execution_count": 9,
   "id": "a94997fb",
   "metadata": {},
   "outputs": [
    {
     "ename": "NameError",
     "evalue": "name 'Sharaswati' is not defined",
     "output_type": "error",
     "traceback": [
      "\u001b[1;31m---------------------------------------------------------------------------\u001b[0m",
      "\u001b[1;31mNameError\u001b[0m                                 Traceback (most recent call last)",
      "Cell \u001b[1;32mIn[9], line 1\u001b[0m\n\u001b[1;32m----> 1\u001b[0m famber\u001b[38;5;241m=\u001b[39m[\u001b[43mSharaswati\u001b[49m,Shakti,Sharmistha]\n",
      "\u001b[1;31mNameError\u001b[0m: name 'Sharaswati' is not defined"
     ]
    }
   ],
   "source": [
    "famber=[Sharaswati,Shakti,Sharmistha]"
   ]
  },
  {
   "cell_type": "code",
   "execution_count": 10,
   "id": "c817241b",
   "metadata": {},
   "outputs": [],
   "source": [
    "famber=['Shatabdi','Sharaswati','Shakti','Sharmistha']"
   ]
  },
  {
   "cell_type": "code",
   "execution_count": 11,
   "id": "05582410",
   "metadata": {},
   "outputs": [
    {
     "data": {
      "text/plain": [
       "'Shatabdi'"
      ]
     },
     "execution_count": 11,
     "metadata": {},
     "output_type": "execute_result"
    }
   ],
   "source": [
    "famber[0]"
   ]
  },
  {
   "cell_type": "code",
   "execution_count": 12,
   "id": "c475f8d7",
   "metadata": {},
   "outputs": [
    {
     "ename": "NameError",
     "evalue": "name 'a' is not defined",
     "output_type": "error",
     "traceback": [
      "\u001b[1;31m---------------------------------------------------------------------------\u001b[0m",
      "\u001b[1;31mNameError\u001b[0m                                 Traceback (most recent call last)",
      "Cell \u001b[1;32mIn[12], line 1\u001b[0m\n\u001b[1;32m----> 1\u001b[0m letters\u001b[38;5;241m=\u001b[39m[\u001b[43ma\u001b[49m,b,c,d,e]\n",
      "\u001b[1;31mNameError\u001b[0m: name 'a' is not defined"
     ]
    }
   ],
   "source": [
    "letters=[a,b,c,d,e]"
   ]
  },
  {
   "cell_type": "code",
   "execution_count": 13,
   "id": "be7a4a19",
   "metadata": {},
   "outputs": [],
   "source": [
    "letters=['a','b','c','d','e']"
   ]
  },
  {
   "cell_type": "code",
   "execution_count": 14,
   "id": "3ff7a7a3",
   "metadata": {},
   "outputs": [
    {
     "data": {
      "text/plain": [
       "'e'"
      ]
     },
     "execution_count": 14,
     "metadata": {},
     "output_type": "execute_result"
    }
   ],
   "source": [
    "letters[4]"
   ]
  },
  {
   "cell_type": "code",
   "execution_count": 15,
   "id": "16f41776",
   "metadata": {},
   "outputs": [
    {
     "ename": "IndexError",
     "evalue": "list index out of range",
     "output_type": "error",
     "traceback": [
      "\u001b[1;31m---------------------------------------------------------------------------\u001b[0m",
      "\u001b[1;31mIndexError\u001b[0m                                Traceback (most recent call last)",
      "Cell \u001b[1;32mIn[15], line 1\u001b[0m\n\u001b[1;32m----> 1\u001b[0m \u001b[43mletters\u001b[49m\u001b[43m[\u001b[49m\u001b[38;5;241;43m5\u001b[39;49m\u001b[43m]\u001b[49m\n",
      "\u001b[1;31mIndexError\u001b[0m: list index out of range"
     ]
    }
   ],
   "source": [
    "letters[5]"
   ]
  },
  {
   "cell_type": "markdown",
   "id": "da27c4f8",
   "metadata": {},
   "source": [
    "# SLICING (0 to upperrange-1)"
   ]
  },
  {
   "cell_type": "code",
   "execution_count": 18,
   "id": "3a150c72",
   "metadata": {},
   "outputs": [
    {
     "data": {
      "text/plain": [
       "['a', 'b', 'c']"
      ]
     },
     "execution_count": 18,
     "metadata": {},
     "output_type": "execute_result"
    }
   ],
   "source": [
    "letters[0:3]    #index(0,1,2)"
   ]
  },
  {
   "cell_type": "code",
   "execution_count": 19,
   "id": "86c48e99",
   "metadata": {},
   "outputs": [
    {
     "data": {
      "text/plain": [
       "['b', 'c']"
      ]
     },
     "execution_count": 19,
     "metadata": {},
     "output_type": "execute_result"
    }
   ],
   "source": [
    "letters[1:3]    #index(1,2)"
   ]
  },
  {
   "cell_type": "code",
   "execution_count": 21,
   "id": "e89c307a",
   "metadata": {},
   "outputs": [
    {
     "data": {
      "text/plain": [
       "['a', 'b', 'c', 'd']"
      ]
     },
     "execution_count": 21,
     "metadata": {},
     "output_type": "execute_result"
    }
   ],
   "source": [
    "letters[:4]    #index(0 to 3)"
   ]
  },
  {
   "cell_type": "code",
   "execution_count": 23,
   "id": "c3d4fbc4",
   "metadata": {},
   "outputs": [
    {
     "data": {
      "text/plain": [
       "['c', 'd', 'e']"
      ]
     },
     "execution_count": 23,
     "metadata": {},
     "output_type": "execute_result"
    }
   ],
   "source": [
    "letters[2:]    #index(2 to last)"
   ]
  },
  {
   "cell_type": "code",
   "execution_count": 3,
   "id": "7e54a87e",
   "metadata": {},
   "outputs": [
    {
     "data": {
      "text/plain": [
       "['B', 'C', 'D']"
      ]
     },
     "execution_count": 3,
     "metadata": {},
     "output_type": "execute_result"
    }
   ],
   "source": [
    "alpha=['A','B','C','D']\n",
    "alpha[1:]"
   ]
  },
  {
   "cell_type": "markdown",
   "id": "c5f27c8f",
   "metadata": {},
   "source": [
    "# TYPE"
   ]
  },
  {
   "cell_type": "code",
   "execution_count": 24,
   "id": "f879756b",
   "metadata": {},
   "outputs": [
    {
     "data": {
      "text/plain": [
       "list"
      ]
     },
     "execution_count": 24,
     "metadata": {},
     "output_type": "execute_result"
    }
   ],
   "source": [
    "type(letters)"
   ]
  },
  {
   "cell_type": "code",
   "execution_count": 25,
   "id": "046a113f",
   "metadata": {},
   "outputs": [
    {
     "ename": "SyntaxError",
     "evalue": "invalid syntax. Perhaps you forgot a comma? (1524584423.py, line 1)",
     "output_type": "error",
     "traceback": [
      "\u001b[1;36m  Cell \u001b[1;32mIn[25], line 1\u001b[1;36m\u001b[0m\n\u001b[1;33m    type(letters[])\u001b[0m\n\u001b[1;37m         ^\u001b[0m\n\u001b[1;31mSyntaxError\u001b[0m\u001b[1;31m:\u001b[0m invalid syntax. Perhaps you forgot a comma?\n"
     ]
    }
   ],
   "source": [
    "type(letters[])"
   ]
  },
  {
   "cell_type": "markdown",
   "id": "4c5a667f",
   "metadata": {},
   "source": [
    "# UPDATE LIST"
   ]
  },
  {
   "cell_type": "code",
   "execution_count": null,
   "id": "4d483de7",
   "metadata": {},
   "outputs": [],
   "source": []
  }
 ],
 "metadata": {
  "kernelspec": {
   "display_name": "Python 3 (ipykernel)",
   "language": "python",
   "name": "python3"
  },
  "language_info": {
   "codemirror_mode": {
    "name": "ipython",
    "version": 3
   },
   "file_extension": ".py",
   "mimetype": "text/x-python",
   "name": "python",
   "nbconvert_exporter": "python",
   "pygments_lexer": "ipython3",
   "version": "3.10.10"
  }
 },
 "nbformat": 4,
 "nbformat_minor": 5
}
