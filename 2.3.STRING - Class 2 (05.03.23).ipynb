{
 "cells": [
  {
   "cell_type": "markdown",
   "id": "8752ffdf",
   "metadata": {},
   "source": [
    "# STRING"
   ]
  },
  {
   "cell_type": "markdown",
   "id": "61821323",
   "metadata": {},
   "source": [
    "\"  \"/'  ' both are applicable but '  ' has some disadvantages. So it is always desirable to use \"  \""
   ]
  },
  {
   "cell_type": "code",
   "execution_count": 2,
   "id": "a7b59057",
   "metadata": {},
   "outputs": [
    {
     "data": {
      "text/plain": [
       "'Shatabdi'"
      ]
     },
     "execution_count": 2,
     "metadata": {},
     "output_type": "execute_result"
    }
   ],
   "source": [
    "s='Shatabdi'\n",
    "s"
   ]
  },
  {
   "cell_type": "code",
   "execution_count": 3,
   "id": "7a0931b0",
   "metadata": {},
   "outputs": [
    {
     "data": {
      "text/plain": [
       "'Shatabdi'"
      ]
     },
     "execution_count": 3,
     "metadata": {},
     "output_type": "execute_result"
    }
   ],
   "source": [
    "s=\"Shatabdi\"\n",
    "s"
   ]
  },
  {
   "cell_type": "code",
   "execution_count": 4,
   "id": "e113fad0",
   "metadata": {},
   "outputs": [
    {
     "data": {
      "text/plain": [
       "str"
      ]
     },
     "execution_count": 4,
     "metadata": {},
     "output_type": "execute_result"
    }
   ],
   "source": [
    "type(s)"
   ]
  },
  {
   "cell_type": "code",
   "execution_count": 5,
   "id": "0b1adef0",
   "metadata": {},
   "outputs": [
    {
     "ename": "SyntaxError",
     "evalue": "invalid syntax (2335551054.py, line 1)",
     "output_type": "error",
     "traceback": [
      "\u001b[1;36m  Cell \u001b[1;32mIn[5], line 1\u001b[1;36m\u001b[0m\n\u001b[1;33m    line='I 'love' my mother.'\u001b[0m\n\u001b[1;37m             ^\u001b[0m\n\u001b[1;31mSyntaxError\u001b[0m\u001b[1;31m:\u001b[0m invalid syntax\n"
     ]
    }
   ],
   "source": [
    "line='I 'love' my mother.'"
   ]
  },
  {
   "cell_type": "code",
   "execution_count": 10,
   "id": "0bcd2dd3",
   "metadata": {},
   "outputs": [
    {
     "data": {
      "text/plain": [
       "\"I 'love' my mother.\""
      ]
     },
     "execution_count": 10,
     "metadata": {},
     "output_type": "execute_result"
    }
   ],
   "source": [
    "#for solving the previous error use \\\n",
    "line1='I \\'love\\' my mother.'\n",
    "line1"
   ]
  },
  {
   "cell_type": "code",
   "execution_count": 7,
   "id": "28198944",
   "metadata": {},
   "outputs": [
    {
     "data": {
      "text/plain": [
       "\"I 'love' my mother.\""
      ]
     },
     "execution_count": 7,
     "metadata": {},
     "output_type": "execute_result"
    }
   ],
   "source": [
    "line=\"I 'love' my mother.\"\n",
    "line"
   ]
  },
  {
   "cell_type": "markdown",
   "id": "63c93409",
   "metadata": {},
   "source": [
    "# new line"
   ]
  },
  {
   "cell_type": "code",
   "execution_count": 11,
   "id": "a1fc4d5b",
   "metadata": {},
   "outputs": [
    {
     "name": "stdout",
     "output_type": "stream",
     "text": [
      "I love my mother.\n",
      "\n",
      "\n",
      "ok\n"
     ]
    }
   ],
   "source": [
    "print(\"I love my mother.\")\n",
    "print(\"\\n\")\n",
    "print(\"ok\")"
   ]
  },
  {
   "cell_type": "code",
   "execution_count": 13,
   "id": "48d38c36",
   "metadata": {},
   "outputs": [
    {
     "ename": "SyntaxError",
     "evalue": "unexpected character after line continuation character (3736608957.py, line 2)",
     "output_type": "error",
     "traceback": [
      "\u001b[1;36m  Cell \u001b[1;32mIn[13], line 2\u001b[1;36m\u001b[0m\n\u001b[1;33m    print(\\n)\u001b[0m\n\u001b[1;37m           ^\u001b[0m\n\u001b[1;31mSyntaxError\u001b[0m\u001b[1;31m:\u001b[0m unexpected character after line continuation character\n"
     ]
    }
   ],
   "source": [
    "print(\"I love my mother.\")\n",
    "print(\\n)\n",
    "print(\"ok\")"
   ]
  },
  {
   "cell_type": "code",
   "execution_count": 14,
   "id": "82ff4542",
   "metadata": {},
   "outputs": [
    {
     "name": "stdout",
     "output_type": "stream",
     "text": [
      "I love my mother.\n",
      "ok\n"
     ]
    }
   ],
   "source": [
    "print(\"I love my mother.\")\n",
    "print(\"ok\")"
   ]
  },
  {
   "cell_type": "code",
   "execution_count": 16,
   "id": "d562517a",
   "metadata": {},
   "outputs": [
    {
     "name": "stdout",
     "output_type": "stream",
     "text": [
      "I love my mother. ok\n"
     ]
    }
   ],
   "source": [
    "print(\"I love my mother.\", end=\" \") #end use korle new line create hobe na.\n",
    "print(\"ok\")"
   ]
  },
  {
   "cell_type": "markdown",
   "id": "168b8e13",
   "metadata": {},
   "source": [
    "# string indexing"
   ]
  },
  {
   "cell_type": "code",
   "execution_count": 17,
   "id": "51456722",
   "metadata": {},
   "outputs": [
    {
     "data": {
      "text/plain": [
       "'Shatabdi Paul Jhankar'"
      ]
     },
     "execution_count": 17,
     "metadata": {},
     "output_type": "execute_result"
    }
   ],
   "source": [
    "name=\"Shatabdi Paul Jhankar\"\n",
    "name"
   ]
  },
  {
   "cell_type": "code",
   "execution_count": 18,
   "id": "af4fc2b5",
   "metadata": {},
   "outputs": [
    {
     "data": {
      "text/plain": [
       "'S'"
      ]
     },
     "execution_count": 18,
     "metadata": {},
     "output_type": "execute_result"
    }
   ],
   "source": [
    "name[0]"
   ]
  },
  {
   "cell_type": "code",
   "execution_count": 19,
   "id": "4f6c1030",
   "metadata": {},
   "outputs": [
    {
     "data": {
      "text/plain": [
       "'P'"
      ]
     },
     "execution_count": 19,
     "metadata": {},
     "output_type": "execute_result"
    }
   ],
   "source": [
    "name[9]"
   ]
  },
  {
   "cell_type": "markdown",
   "id": "079bfd44",
   "metadata": {},
   "source": [
    "# string slicing"
   ]
  },
  {
   "cell_type": "code",
   "execution_count": 20,
   "id": "0982d778",
   "metadata": {},
   "outputs": [
    {
     "data": {
      "text/plain": [
       "'Paul Jhankar'"
      ]
     },
     "execution_count": 20,
     "metadata": {},
     "output_type": "execute_result"
    }
   ],
   "source": [
    "name[9:]"
   ]
  },
  {
   "cell_type": "code",
   "execution_count": 21,
   "id": "c82a46b3",
   "metadata": {},
   "outputs": [
    {
     "data": {
      "text/plain": [
       "'Shatabdi '"
      ]
     },
     "execution_count": 21,
     "metadata": {},
     "output_type": "execute_result"
    }
   ],
   "source": [
    "name[:9]"
   ]
  },
  {
   "cell_type": "code",
   "execution_count": 22,
   "id": "a2106719",
   "metadata": {},
   "outputs": [
    {
     "data": {
      "text/plain": [
       "'atabdi P'"
      ]
     },
     "execution_count": 22,
     "metadata": {},
     "output_type": "execute_result"
    }
   ],
   "source": [
    "name[2:10]"
   ]
  },
  {
   "cell_type": "code",
   "execution_count": 24,
   "id": "b46bcdf3",
   "metadata": {},
   "outputs": [
    {
     "name": "stdout",
     "output_type": "stream",
     "text": [
      "My age is 24\n"
     ]
    }
   ],
   "source": [
    "n=24\n",
    "line1=\"My age is\"\n",
    "print(line1,n)"
   ]
  },
  {
   "cell_type": "markdown",
   "id": "76019111",
   "metadata": {},
   "source": [
    "# f - it's very important, so remember it!!!"
   ]
  },
  {
   "cell_type": "code",
   "execution_count": 25,
   "id": "1e93b752",
   "metadata": {},
   "outputs": [
    {
     "name": "stdout",
     "output_type": "stream",
     "text": [
      "I am 24 years old.\n"
     ]
    }
   ],
   "source": [
    "print(f\"I am {n} years old.\")"
   ]
  },
  {
   "cell_type": "code",
   "execution_count": 27,
   "id": "648f1ca4",
   "metadata": {},
   "outputs": [
    {
     "name": "stdout",
     "output_type": "stream",
     "text": [
      "My age is 24\n"
     ]
    }
   ],
   "source": [
    "print(f\"{line1} {n}\")"
   ]
  },
  {
   "cell_type": "code",
   "execution_count": 28,
   "id": "3aa9254c",
   "metadata": {},
   "outputs": [
    {
     "data": {
      "text/plain": [
       "'ShatabdiPaulJhankar'"
      ]
     },
     "execution_count": 28,
     "metadata": {},
     "output_type": "execute_result"
    }
   ],
   "source": [
    "s1=\"Shatabdi\"\n",
    "s2=\"Paul\"\n",
    "s3=\"Jhankar\"\n",
    "s1+s2+s3"
   ]
  },
  {
   "cell_type": "code",
   "execution_count": 29,
   "id": "494babf7",
   "metadata": {},
   "outputs": [
    {
     "data": {
      "text/plain": [
       "'Shatabdi Paul Jhankar'"
      ]
     },
     "execution_count": 29,
     "metadata": {},
     "output_type": "execute_result"
    }
   ],
   "source": [
    "s1+\" \"+s2+\" \"+s3"
   ]
  },
  {
   "cell_type": "markdown",
   "id": "82ebf747",
   "metadata": {},
   "source": [
    "# string length"
   ]
  },
  {
   "cell_type": "code",
   "execution_count": 30,
   "id": "483b79c7",
   "metadata": {},
   "outputs": [
    {
     "data": {
      "text/plain": [
       "(8, 4, 7)"
      ]
     },
     "execution_count": 30,
     "metadata": {},
     "output_type": "execute_result"
    }
   ],
   "source": [
    "len(s1),len(s2),len(s3)"
   ]
  },
  {
   "cell_type": "markdown",
   "id": "812e5ac3",
   "metadata": {},
   "source": [
    "# split"
   ]
  },
  {
   "cell_type": "code",
   "execution_count": 33,
   "id": "57d5b966",
   "metadata": {},
   "outputs": [
    {
     "data": {
      "text/plain": [
       "['Sh', 't', 'bi P', 'ul Jh', 'nk', 'r']"
      ]
     },
     "execution_count": 33,
     "metadata": {},
     "output_type": "execute_result"
    }
   ],
   "source": [
    "name=\"Shatabi Paul Jhankar\"\n",
    "name.split('a')"
   ]
  },
  {
   "cell_type": "markdown",
   "id": "32268584",
   "metadata": {},
   "source": [
    "# koto no index theke shuru?"
   ]
  },
  {
   "cell_type": "code",
   "execution_count": 34,
   "id": "2b9f3196",
   "metadata": {},
   "outputs": [
    {
     "data": {
      "text/plain": [
       "8"
      ]
     },
     "execution_count": 34,
     "metadata": {},
     "output_type": "execute_result"
    }
   ],
   "source": [
    "name.find(\"Paul\")"
   ]
  }
 ],
 "metadata": {
  "kernelspec": {
   "display_name": "Python 3 (ipykernel)",
   "language": "python",
   "name": "python3"
  },
  "language_info": {
   "codemirror_mode": {
    "name": "ipython",
    "version": 3
   },
   "file_extension": ".py",
   "mimetype": "text/x-python",
   "name": "python",
   "nbconvert_exporter": "python",
   "pygments_lexer": "ipython3",
   "version": "3.10.10"
  }
 },
 "nbformat": 4,
 "nbformat_minor": 5
}
