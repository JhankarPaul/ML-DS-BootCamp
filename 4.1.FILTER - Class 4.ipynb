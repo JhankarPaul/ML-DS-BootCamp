{
 "cells": [
  {
   "cell_type": "code",
   "execution_count": 2,
   "id": "2ec93bac",
   "metadata": {},
   "outputs": [
    {
     "data": {
      "text/plain": [
       "[1, 3, 5, 7, 9]"
      ]
     },
     "execution_count": 2,
     "metadata": {},
     "output_type": "execute_result"
    }
   ],
   "source": [
    "l=[1,2,3,4,5,6,7,8,9]\n",
    "def is_odd(a):\n",
    "    if a%2==1:\n",
    "        return True\n",
    "    else:\n",
    "        return False\n",
    "f=filter(is_odd,l)\n",
    "list(f)"
   ]
  },
  {
   "cell_type": "code",
   "execution_count": 3,
   "id": "dc896ac5",
   "metadata": {},
   "outputs": [
    {
     "data": {
      "text/plain": [
       "[True, False, True, False, True, False, True, False, True]"
      ]
     },
     "execution_count": 3,
     "metadata": {},
     "output_type": "execute_result"
    }
   ],
   "source": [
    "l=[1,2,3,4,5,6,7,8,9]\n",
    "def is_odd(a):\n",
    "    if a%2==1:\n",
    "        return True\n",
    "    else:\n",
    "        return False\n",
    "f=map(is_odd,l)\n",
    "list(f)"
   ]
  },
  {
   "cell_type": "code",
   "execution_count": 10,
   "id": "f846df54",
   "metadata": {},
   "outputs": [
    {
     "data": {
      "text/plain": [
       "[1, 2, 3, 4, 5, 6, 7, 8, 9]"
      ]
     },
     "execution_count": 10,
     "metadata": {},
     "output_type": "execute_result"
    }
   ],
   "source": [
    "l=[1,2,3,4,5,6,7,8,9]\n",
    "def is_odd(a):\n",
    "    if a%2==0:\n",
    "        ans=\"even\"\n",
    "    else:\n",
    "        ans=\"odd\"\n",
    "    return ans\n",
    "f=filter(is_odd,l)\n",
    "list(f)"
   ]
  },
  {
   "cell_type": "code",
   "execution_count": 11,
   "id": "3a32c8c9",
   "metadata": {},
   "outputs": [
    {
     "name": "stdout",
     "output_type": "stream",
     "text": [
      "['odd', 'even', 'odd', 'even', 'odd', 'even', 'odd', 'even', 'odd']\n"
     ]
    }
   ],
   "source": [
    "l=[1,2,3,4,5,6,7,8,9]\n",
    "def is_odd(a):\n",
    "    if a%2==0:\n",
    "        ans=\"even\"\n",
    "    else:\n",
    "        ans=\"odd\"\n",
    "    return ans\n",
    "f=map(is_odd,l)\n",
    "m=list(f)\n",
    "print(m)"
   ]
  }
 ],
 "metadata": {
  "kernelspec": {
   "display_name": "Python 3 (ipykernel)",
   "language": "python",
   "name": "python3"
  },
  "language_info": {
   "codemirror_mode": {
    "name": "ipython",
    "version": 3
   },
   "file_extension": ".py",
   "mimetype": "text/x-python",
   "name": "python",
   "nbconvert_exporter": "python",
   "pygments_lexer": "ipython3",
   "version": "3.10.10"
  }
 },
 "nbformat": 4,
 "nbformat_minor": 5
}
