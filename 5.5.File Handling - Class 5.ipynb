{
 "cells": [
  {
   "cell_type": "markdown",
   "id": "373a43a5",
   "metadata": {},
   "source": [
    "# modes: r, r+, rb, rb+, w, w+, wb+, a(append), ab, a+"
   ]
  },
  {
   "cell_type": "markdown",
   "id": "f75aa305",
   "metadata": {},
   "source": [
    "# Read a File"
   ]
  },
  {
   "cell_type": "code",
   "execution_count": 4,
   "id": "32984a05",
   "metadata": {},
   "outputs": [
    {
     "name": "stdout",
     "output_type": "stream",
     "text": [
      "It's a demo file for file handling topic.\n"
     ]
    }
   ],
   "source": [
    "file=open('demo_file.txt')\n",
    "content=file.read()\n",
    "print(content)\n",
    "file.close()"
   ]
  },
  {
   "cell_type": "code",
   "execution_count": 6,
   "id": "764d32cb",
   "metadata": {},
   "outputs": [
    {
     "name": "stdout",
     "output_type": "stream",
     "text": [
      "It's a demo file for file handling topic.\n"
     ]
    }
   ],
   "source": [
    "file=open('demo_file.txt','r')\n",
    "content=file.read()\n",
    "print(content)\n",
    "file.close()"
   ]
  },
  {
   "cell_type": "markdown",
   "id": "210f5ebb",
   "metadata": {},
   "source": [
    "# Append (add something new to the previous content)"
   ]
  },
  {
   "cell_type": "code",
   "execution_count": 8,
   "id": "011ca8fd",
   "metadata": {},
   "outputs": [],
   "source": [
    "file=open('demo_file.txt','a')\n",
    "file.write(\"\\nIt's a Machine Learning course.\")\n",
    "file.close()"
   ]
  },
  {
   "cell_type": "code",
   "execution_count": 9,
   "id": "e7a61c63",
   "metadata": {},
   "outputs": [
    {
     "name": "stdout",
     "output_type": "stream",
     "text": [
      "It's a demo file for file handling topic.\n",
      "It's a Machine Learning course.\n"
     ]
    }
   ],
   "source": [
    "file=open('demo_file.txt')\n",
    "content_w=file.read()\n",
    "print(content_w)\n",
    "file.close()"
   ]
  },
  {
   "cell_type": "markdown",
   "id": "87e69b64",
   "metadata": {},
   "source": [
    "# Write (replace the previous content)"
   ]
  },
  {
   "cell_type": "code",
   "execution_count": 10,
   "id": "63f1c194",
   "metadata": {},
   "outputs": [
    {
     "name": "stdout",
     "output_type": "stream",
     "text": [
      "HI, this is Jhankar Paul.\n"
     ]
    }
   ],
   "source": [
    "file=open('demo2.txt')\n",
    "contentp=file.read()\n",
    "print(contentp)\n",
    "file.close()"
   ]
  },
  {
   "cell_type": "code",
   "execution_count": 11,
   "id": "014ed965",
   "metadata": {},
   "outputs": [],
   "source": [
    "file=open('demo2.txt','w')\n",
    "file.write(\"I am an Electrical Engineer.\")\n",
    "file.close()"
   ]
  },
  {
   "cell_type": "code",
   "execution_count": 12,
   "id": "b5fc8693",
   "metadata": {},
   "outputs": [
    {
     "name": "stdout",
     "output_type": "stream",
     "text": [
      "I am an Electrical Engineer.\n"
     ]
    }
   ],
   "source": [
    "file=open('demo2.txt')\n",
    "contentn=file.read()\n",
    "print(contentn)\n",
    "file.close()"
   ]
  },
  {
   "cell_type": "markdown",
   "id": "56070216",
   "metadata": {},
   "source": [
    "# For Read specific no. of elements of a file"
   ]
  },
  {
   "cell_type": "code",
   "execution_count": 13,
   "id": "ef56ce13",
   "metadata": {},
   "outputs": [
    {
     "name": "stdout",
     "output_type": "stream",
     "text": [
      "It's\n"
     ]
    }
   ],
   "source": [
    "file=open('demo_file.txt')\n",
    "content=file.read(4)\n",
    "print(content)\n",
    "file.close()"
   ]
  },
  {
   "cell_type": "markdown",
   "id": "b4d01264",
   "metadata": {},
   "source": [
    "# for Automatic Close"
   ]
  },
  {
   "cell_type": "code",
   "execution_count": 17,
   "id": "a6c30b13",
   "metadata": {},
   "outputs": [
    {
     "name": "stdout",
     "output_type": "stream",
     "text": [
      "It's a demo file for file handling topic.\n",
      "It's a Machine Learning course.\n"
     ]
    }
   ],
   "source": [
    "with open('demo_file.txt') as file:\n",
    "    content=file.read()\n",
    "    print(content)"
   ]
  }
 ],
 "metadata": {
  "kernelspec": {
   "display_name": "Python 3 (ipykernel)",
   "language": "python",
   "name": "python3"
  },
  "language_info": {
   "codemirror_mode": {
    "name": "ipython",
    "version": 3
   },
   "file_extension": ".py",
   "mimetype": "text/x-python",
   "name": "python",
   "nbconvert_exporter": "python",
   "pygments_lexer": "ipython3",
   "version": "3.10.10"
  }
 },
 "nbformat": 4,
 "nbformat_minor": 5
}
