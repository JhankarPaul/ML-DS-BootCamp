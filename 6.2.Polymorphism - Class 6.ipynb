{
 "cells": [
  {
   "cell_type": "code",
   "execution_count": 1,
   "id": "3f999aad",
   "metadata": {},
   "outputs": [
    {
     "name": "stdout",
     "output_type": "stream",
     "text": [
      "9 45\n"
     ]
    }
   ],
   "source": [
    "print(4+5, \"4\"+\"5\")"
   ]
  },
  {
   "cell_type": "code",
   "execution_count": 3,
   "id": "38f079da",
   "metadata": {},
   "outputs": [
    {
     "name": "stdout",
     "output_type": "stream",
     "text": [
      "9 45\n"
     ]
    },
    {
     "data": {
      "text/plain": [
       "(int, str)"
      ]
     },
     "execution_count": 3,
     "metadata": {},
     "output_type": "execute_result"
    }
   ],
   "source": [
    "a=4+5\n",
    "b=\"4\"+\"5\"\n",
    "print(a,b)\n",
    "type(a),type(b)"
   ]
  },
  {
   "cell_type": "code",
   "execution_count": 5,
   "id": "cfded509",
   "metadata": {},
   "outputs": [
    {
     "name": "stdout",
     "output_type": "stream",
     "text": [
      "9\n"
     ]
    }
   ],
   "source": [
    "a=4\n",
    "print(a.__add__(5))"
   ]
  },
  {
   "cell_type": "code",
   "execution_count": 6,
   "id": "1d7616c4",
   "metadata": {},
   "outputs": [
    {
     "name": "stdout",
     "output_type": "stream",
     "text": [
      "45\n"
     ]
    }
   ],
   "source": [
    "a=\"4\"\n",
    "print(a.__add__(\"5\"))"
   ]
  },
  {
   "cell_type": "markdown",
   "id": "26f0067b",
   "metadata": {},
   "source": [
    "# Method Overriding/Ambiguity"
   ]
  },
  {
   "cell_type": "code",
   "execution_count": 7,
   "id": "effed7e6",
   "metadata": {},
   "outputs": [
    {
     "ename": "TypeError",
     "evalue": "Sum.add() missing 1 required positional argument: 'c'",
     "output_type": "error",
     "traceback": [
      "\u001b[1;31m---------------------------------------------------------------------------\u001b[0m",
      "\u001b[1;31mTypeError\u001b[0m                                 Traceback (most recent call last)",
      "Cell \u001b[1;32mIn[7], line 10\u001b[0m\n\u001b[0;32m      8\u001b[0m         \u001b[38;5;28;01mreturn\u001b[39;00m a\u001b[38;5;241m+\u001b[39mb\u001b[38;5;241m+\u001b[39mc\n\u001b[0;32m      9\u001b[0m calc\u001b[38;5;241m=\u001b[39mSum()\n\u001b[1;32m---> 10\u001b[0m s\u001b[38;5;241m=\u001b[39m\u001b[43mcalc\u001b[49m\u001b[38;5;241;43m.\u001b[39;49m\u001b[43madd\u001b[49m\u001b[43m(\u001b[49m\u001b[38;5;241;43m12\u001b[39;49m\u001b[43m,\u001b[49m\u001b[38;5;241;43m24\u001b[39;49m\u001b[43m)\u001b[49m\n\u001b[0;32m     11\u001b[0m subb\u001b[38;5;241m=\u001b[39mcalc\u001b[38;5;241m.\u001b[39msub(\u001b[38;5;241m21\u001b[39m,\u001b[38;5;241m12\u001b[39m)\n\u001b[0;32m     12\u001b[0m \u001b[38;5;28mprint\u001b[39m(s,subb)\n",
      "\u001b[1;31mTypeError\u001b[0m: Sum.add() missing 1 required positional argument: 'c'"
     ]
    }
   ],
   "source": [
    "class Calculator:\n",
    "    def add(self,a,b):\n",
    "        return a+b\n",
    "    def sub(self,a,b):\n",
    "        return a-b\n",
    "class Sum(Calculator):        \n",
    "    def add(self,a,b,c):         #method overriding\n",
    "        return a+b+c\n",
    "calc=Sum()\n",
    "s=calc.add(12,24)\n",
    "subb=calc.sub(21,12)\n",
    "print(s,subb)"
   ]
  },
  {
   "cell_type": "code",
   "execution_count": 8,
   "id": "0793d58b",
   "metadata": {},
   "outputs": [
    {
     "name": "stdout",
     "output_type": "stream",
     "text": [
      "48 9\n"
     ]
    }
   ],
   "source": [
    "class Calculator:\n",
    "    def add(self,a,b):\n",
    "        return a+b\n",
    "    def sub(self,a,b):\n",
    "        return a-b\n",
    "class Sum(Calculator):        \n",
    "    def add(self,a,b,c):         #method overriding\n",
    "        return a+b+c\n",
    "calc=Sum()\n",
    "s=calc.add(12,24,12)\n",
    "subb=calc.sub(21,12)\n",
    "print(s,subb)"
   ]
  },
  {
   "cell_type": "markdown",
   "id": "49671475",
   "metadata": {},
   "source": [
    "# Method Overloading"
   ]
  },
  {
   "cell_type": "code",
   "execution_count": 21,
   "id": "f43cbe5a",
   "metadata": {},
   "outputs": [
    {
     "name": "stdout",
     "output_type": "stream",
     "text": [
      "Plabon is rich\n"
     ]
    }
   ],
   "source": [
    "class Employee:\n",
    "    def __init__(self,name):\n",
    "        self.name=name\n",
    "    def income(self,money):\n",
    "        self.money=money\n",
    "        if money==None:\n",
    "            print(f\"{self.name} is poor\")\n",
    "        elif money<50:\n",
    "            print(f\"{self.name} is not so poor\")\n",
    "        else:\n",
    "            print(f\"{self.name} is rich\")\n",
    "me=Employee(\"Plabon\")\n",
    "me.income(90)"
   ]
  }
 ],
 "metadata": {
  "kernelspec": {
   "display_name": "Python 3 (ipykernel)",
   "language": "python",
   "name": "python3"
  },
  "language_info": {
   "codemirror_mode": {
    "name": "ipython",
    "version": 3
   },
   "file_extension": ".py",
   "mimetype": "text/x-python",
   "name": "python",
   "nbconvert_exporter": "python",
   "pygments_lexer": "ipython3",
   "version": "3.10.10"
  }
 },
 "nbformat": 4,
 "nbformat_minor": 5
}
