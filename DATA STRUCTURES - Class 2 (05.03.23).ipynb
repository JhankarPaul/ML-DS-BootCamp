{
 "cells": [
  {
   "cell_type": "markdown",
   "id": "1aebb8e4",
   "metadata": {},
   "source": [
    "# LIST [item1,item2,item3,....,itemn]"
   ]
  },
  {
   "cell_type": "code",
   "execution_count": 2,
   "id": "c41e4f15",
   "metadata": {},
   "outputs": [],
   "source": [
    "list_1=['buet','ruet','kuet','cuet']\n",
    "list_2=[1,2,3,4]"
   ]
  },
  {
   "cell_type": "code",
   "execution_count": 3,
   "id": "10e272b0",
   "metadata": {},
   "outputs": [
    {
     "data": {
      "text/plain": [
       "'ruet'"
      ]
     },
     "execution_count": 3,
     "metadata": {},
     "output_type": "execute_result"
    }
   ],
   "source": [
    "#list index\n",
    "list_1[1]"
   ]
  },
  {
   "cell_type": "code",
   "execution_count": 4,
   "id": "3c659554",
   "metadata": {},
   "outputs": [
    {
     "data": {
      "text/plain": [
       "3"
      ]
     },
     "execution_count": 4,
     "metadata": {},
     "output_type": "execute_result"
    }
   ],
   "source": [
    "list_2[2]"
   ]
  },
  {
   "cell_type": "code",
   "execution_count": 5,
   "id": "273b14a1",
   "metadata": {},
   "outputs": [
    {
     "data": {
      "text/plain": [
       "'buet'"
      ]
     },
     "execution_count": 5,
     "metadata": {},
     "output_type": "execute_result"
    }
   ],
   "source": [
    "list_1[0]"
   ]
  },
  {
   "cell_type": "code",
   "execution_count": 6,
   "id": "aeeb272d",
   "metadata": {},
   "outputs": [
    {
     "ename": "NameError",
     "evalue": "name 'Shatabdi' is not defined",
     "output_type": "error",
     "traceback": [
      "\u001b[1;31m---------------------------------------------------------------------------\u001b[0m",
      "\u001b[1;31mNameError\u001b[0m                                 Traceback (most recent call last)",
      "Cell \u001b[1;32mIn[6], line 1\u001b[0m\n\u001b[1;32m----> 1\u001b[0m famber\u001b[38;5;241m=\u001b[39m[\u001b[43mShatabdi\u001b[49m,Sharaswati,Shakti,Sharmistha]\n",
      "\u001b[1;31mNameError\u001b[0m: name 'Shatabdi' is not defined"
     ]
    }
   ],
   "source": [
    "famber=[Shatabdi,Sharaswati,Shakti,Sharmistha]"
   ]
  },
  {
   "cell_type": "code",
   "execution_count": 9,
   "id": "a94997fb",
   "metadata": {},
   "outputs": [
    {
     "ename": "NameError",
     "evalue": "name 'Sharaswati' is not defined",
     "output_type": "error",
     "traceback": [
      "\u001b[1;31m---------------------------------------------------------------------------\u001b[0m",
      "\u001b[1;31mNameError\u001b[0m                                 Traceback (most recent call last)",
      "Cell \u001b[1;32mIn[9], line 1\u001b[0m\n\u001b[1;32m----> 1\u001b[0m famber\u001b[38;5;241m=\u001b[39m[\u001b[43mSharaswati\u001b[49m,Shakti,Sharmistha]\n",
      "\u001b[1;31mNameError\u001b[0m: name 'Sharaswati' is not defined"
     ]
    }
   ],
   "source": [
    "famber=[Sharaswati,Shakti,Sharmistha]"
   ]
  },
  {
   "cell_type": "code",
   "execution_count": 10,
   "id": "c817241b",
   "metadata": {},
   "outputs": [],
   "source": [
    "famber=['Shatabdi','Sharaswati','Shakti','Sharmistha']"
   ]
  },
  {
   "cell_type": "code",
   "execution_count": 11,
   "id": "05582410",
   "metadata": {},
   "outputs": [
    {
     "data": {
      "text/plain": [
       "'Shatabdi'"
      ]
     },
     "execution_count": 11,
     "metadata": {},
     "output_type": "execute_result"
    }
   ],
   "source": [
    "famber[0]"
   ]
  },
  {
   "cell_type": "code",
   "execution_count": 12,
   "id": "c475f8d7",
   "metadata": {},
   "outputs": [
    {
     "ename": "NameError",
     "evalue": "name 'a' is not defined",
     "output_type": "error",
     "traceback": [
      "\u001b[1;31m---------------------------------------------------------------------------\u001b[0m",
      "\u001b[1;31mNameError\u001b[0m                                 Traceback (most recent call last)",
      "Cell \u001b[1;32mIn[12], line 1\u001b[0m\n\u001b[1;32m----> 1\u001b[0m letters\u001b[38;5;241m=\u001b[39m[\u001b[43ma\u001b[49m,b,c,d,e]\n",
      "\u001b[1;31mNameError\u001b[0m: name 'a' is not defined"
     ]
    }
   ],
   "source": [
    "letters=[a,b,c,d,e]"
   ]
  },
  {
   "cell_type": "code",
   "execution_count": 13,
   "id": "be7a4a19",
   "metadata": {},
   "outputs": [],
   "source": [
    "letters=['a','b','c','d','e']"
   ]
  },
  {
   "cell_type": "code",
   "execution_count": 14,
   "id": "3ff7a7a3",
   "metadata": {},
   "outputs": [
    {
     "data": {
      "text/plain": [
       "'e'"
      ]
     },
     "execution_count": 14,
     "metadata": {},
     "output_type": "execute_result"
    }
   ],
   "source": [
    "letters[4]"
   ]
  },
  {
   "cell_type": "code",
   "execution_count": 15,
   "id": "16f41776",
   "metadata": {},
   "outputs": [
    {
     "ename": "IndexError",
     "evalue": "list index out of range",
     "output_type": "error",
     "traceback": [
      "\u001b[1;31m---------------------------------------------------------------------------\u001b[0m",
      "\u001b[1;31mIndexError\u001b[0m                                Traceback (most recent call last)",
      "Cell \u001b[1;32mIn[15], line 1\u001b[0m\n\u001b[1;32m----> 1\u001b[0m \u001b[43mletters\u001b[49m\u001b[43m[\u001b[49m\u001b[38;5;241;43m5\u001b[39;49m\u001b[43m]\u001b[49m\n",
      "\u001b[1;31mIndexError\u001b[0m: list index out of range"
     ]
    }
   ],
   "source": [
    "letters[5]"
   ]
  },
  {
   "cell_type": "markdown",
   "id": "da27c4f8",
   "metadata": {},
   "source": [
    "# SLICING (0 to upperrange-1)"
   ]
  },
  {
   "cell_type": "code",
   "execution_count": 18,
   "id": "3a150c72",
   "metadata": {},
   "outputs": [
    {
     "data": {
      "text/plain": [
       "['a', 'b', 'c']"
      ]
     },
     "execution_count": 18,
     "metadata": {},
     "output_type": "execute_result"
    }
   ],
   "source": [
    "letters[0:3]    #index(0,1,2)"
   ]
  },
  {
   "cell_type": "code",
   "execution_count": 19,
   "id": "86c48e99",
   "metadata": {},
   "outputs": [
    {
     "data": {
      "text/plain": [
       "['b', 'c']"
      ]
     },
     "execution_count": 19,
     "metadata": {},
     "output_type": "execute_result"
    }
   ],
   "source": [
    "letters[1:3]    #index(1,2)"
   ]
  },
  {
   "cell_type": "code",
   "execution_count": 21,
   "id": "e89c307a",
   "metadata": {},
   "outputs": [
    {
     "data": {
      "text/plain": [
       "['a', 'b', 'c', 'd']"
      ]
     },
     "execution_count": 21,
     "metadata": {},
     "output_type": "execute_result"
    }
   ],
   "source": [
    "letters[:4]    #index(0 to 3)"
   ]
  },
  {
   "cell_type": "code",
   "execution_count": 23,
   "id": "c3d4fbc4",
   "metadata": {},
   "outputs": [
    {
     "data": {
      "text/plain": [
       "['c', 'd', 'e']"
      ]
     },
     "execution_count": 23,
     "metadata": {},
     "output_type": "execute_result"
    }
   ],
   "source": [
    "letters[2:]    #index(2 to last)"
   ]
  },
  {
   "cell_type": "code",
   "execution_count": 3,
   "id": "7e54a87e",
   "metadata": {},
   "outputs": [
    {
     "data": {
      "text/plain": [
       "['B', 'C', 'D']"
      ]
     },
     "execution_count": 3,
     "metadata": {},
     "output_type": "execute_result"
    }
   ],
   "source": [
    "alpha=['A','B','C','D']\n",
    "alpha[1:]"
   ]
  },
  {
   "cell_type": "markdown",
   "id": "c5f27c8f",
   "metadata": {},
   "source": [
    "# TYPE"
   ]
  },
  {
   "cell_type": "code",
   "execution_count": 24,
   "id": "f879756b",
   "metadata": {},
   "outputs": [
    {
     "data": {
      "text/plain": [
       "list"
      ]
     },
     "execution_count": 24,
     "metadata": {},
     "output_type": "execute_result"
    }
   ],
   "source": [
    "type(letters)"
   ]
  },
  {
   "cell_type": "code",
   "execution_count": 25,
   "id": "046a113f",
   "metadata": {},
   "outputs": [
    {
     "ename": "SyntaxError",
     "evalue": "invalid syntax. Perhaps you forgot a comma? (1524584423.py, line 1)",
     "output_type": "error",
     "traceback": [
      "\u001b[1;36m  Cell \u001b[1;32mIn[25], line 1\u001b[1;36m\u001b[0m\n\u001b[1;33m    type(letters[])\u001b[0m\n\u001b[1;37m         ^\u001b[0m\n\u001b[1;31mSyntaxError\u001b[0m\u001b[1;31m:\u001b[0m invalid syntax. Perhaps you forgot a comma?\n"
     ]
    }
   ],
   "source": [
    "type(letters[])"
   ]
  },
  {
   "cell_type": "markdown",
   "id": "4c5a667f",
   "metadata": {},
   "source": [
    "# UPDATE LIST"
   ]
  },
  {
   "cell_type": "code",
   "execution_count": 2,
   "id": "4d483de7",
   "metadata": {},
   "outputs": [],
   "source": [
    "alpha=['A','B','C','D']"
   ]
  },
  {
   "cell_type": "code",
   "execution_count": 6,
   "id": "cca2292b",
   "metadata": {},
   "outputs": [],
   "source": [
    "alpha.append('E')    #for inserting last element"
   ]
  },
  {
   "cell_type": "code",
   "execution_count": 4,
   "id": "99ca671c",
   "metadata": {},
   "outputs": [
    {
     "data": {
      "text/plain": [
       "['A', 'B', 'C', 'D', 'E']"
      ]
     },
     "execution_count": 4,
     "metadata": {},
     "output_type": "execute_result"
    }
   ],
   "source": [
    "alpha"
   ]
  },
  {
   "cell_type": "code",
   "execution_count": 5,
   "id": "aebe597a",
   "metadata": {},
   "outputs": [
    {
     "data": {
      "text/plain": [
       "['A', 'B', 'C', 'D', 'E', 'G']"
      ]
     },
     "execution_count": 5,
     "metadata": {},
     "output_type": "execute_result"
    }
   ],
   "source": [
    "alpha.append('G')\n",
    "alpha"
   ]
  },
  {
   "cell_type": "code",
   "execution_count": 11,
   "id": "5803d8df",
   "metadata": {},
   "outputs": [
    {
     "data": {
      "text/plain": [
       "[10, 20, 30, 40, 50]"
      ]
     },
     "execution_count": 11,
     "metadata": {},
     "output_type": "execute_result"
    }
   ],
   "source": [
    "values=[10,20,30,50]\n",
    "#for inserting middle elements\n",
    "#list_name.insert(index no,item)\n",
    "values.insert(3,40)\n",
    "values"
   ]
  },
  {
   "cell_type": "code",
   "execution_count": 12,
   "id": "1dd35130",
   "metadata": {},
   "outputs": [],
   "source": [
    "values.append(60)"
   ]
  },
  {
   "cell_type": "code",
   "execution_count": 13,
   "id": "636a6657",
   "metadata": {},
   "outputs": [
    {
     "data": {
      "text/plain": [
       "[10, 20, 30, 40, 50, 60]"
      ]
     },
     "execution_count": 13,
     "metadata": {},
     "output_type": "execute_result"
    }
   ],
   "source": [
    "values"
   ]
  },
  {
   "cell_type": "code",
   "execution_count": 14,
   "id": "35da3eee",
   "metadata": {},
   "outputs": [
    {
     "data": {
      "text/plain": [
       "[10, 20, 30, 40, 50, 60, 70, 80]"
      ]
     },
     "execution_count": 14,
     "metadata": {},
     "output_type": "execute_result"
    }
   ],
   "source": [
    "#for extend\n",
    "values.extend([70,80])\n",
    "values"
   ]
  },
  {
   "cell_type": "code",
   "execution_count": 15,
   "id": "17a67f62",
   "metadata": {},
   "outputs": [
    {
     "data": {
      "text/plain": [
       "[10, 20, 30, 40, 50, 60, 70, 80, 'ami', 'tumi']"
      ]
     },
     "execution_count": 15,
     "metadata": {},
     "output_type": "execute_result"
    }
   ],
   "source": [
    "#for merge two lists\n",
    "habijabi=['ami','tumi']\n",
    "values+habijabi"
   ]
  },
  {
   "cell_type": "code",
   "execution_count": 16,
   "id": "6812e4cd",
   "metadata": {},
   "outputs": [
    {
     "data": {
      "text/plain": [
       "[10, 20, 30, 40, 50, 60, 70, 80, 'a', 'r', ' ', 'k', 'o', 't', 'o']"
      ]
     },
     "execution_count": 16,
     "metadata": {},
     "output_type": "execute_result"
    }
   ],
   "source": [
    "values.extend('ar koto')\n",
    "values"
   ]
  },
  {
   "cell_type": "code",
   "execution_count": 17,
   "id": "2908f6db",
   "metadata": {},
   "outputs": [
    {
     "data": {
      "text/plain": [
       "[10,\n",
       " 20,\n",
       " 30,\n",
       " 40,\n",
       " 50,\n",
       " 60,\n",
       " 70,\n",
       " 80,\n",
       " 'a',\n",
       " 'r',\n",
       " ' ',\n",
       " 'k',\n",
       " 'o',\n",
       " 't',\n",
       " 'o',\n",
       " 'ami',\n",
       " 'tumi']"
      ]
     },
     "execution_count": 17,
     "metadata": {},
     "output_type": "execute_result"
    }
   ],
   "source": [
    "values.extend(habijabi)\n",
    "values"
   ]
  },
  {
   "cell_type": "code",
   "execution_count": 19,
   "id": "007247ad",
   "metadata": {},
   "outputs": [
    {
     "data": {
      "text/plain": [
       "['ami',\n",
       " 'tumi',\n",
       " ['A', 'B', '3', '3', 3, 'C', 'D', 'E', 'G', 'E'],\n",
       " ['A', 'B', '3', '3', 3, 'C', 'D', 'E', 'G', 'E']]"
      ]
     },
     "execution_count": 19,
     "metadata": {},
     "output_type": "execute_result"
    }
   ],
   "source": [
    "habijabi.extend([alpha])\n",
    "habijabi"
   ]
  },
  {
   "cell_type": "markdown",
   "id": "74394c7d",
   "metadata": {},
   "source": [
    "# REMOVE ITEMS "
   ]
  },
  {
   "cell_type": "code",
   "execution_count": 20,
   "id": "2a663d6b",
   "metadata": {},
   "outputs": [
    {
     "data": {
      "text/plain": [
       "['ami', 'tumi']"
      ]
     },
     "execution_count": 20,
     "metadata": {},
     "output_type": "execute_result"
    }
   ],
   "source": [
    "del habijabi[2:]\n",
    "habijabi"
   ]
  },
  {
   "cell_type": "code",
   "execution_count": 21,
   "id": "5fde25ca",
   "metadata": {},
   "outputs": [
    {
     "data": {
      "text/plain": [
       "[10, 20, 30, 40, 50, 60, 70, 80, 'a', 'r', 'k', 'o', 't', 'o', 'ami', 'tumi']"
      ]
     },
     "execution_count": 21,
     "metadata": {},
     "output_type": "execute_result"
    }
   ],
   "source": [
    "del values[10]\n",
    "values"
   ]
  },
  {
   "cell_type": "code",
   "execution_count": 23,
   "id": "c8b3d502",
   "metadata": {},
   "outputs": [
    {
     "ename": "TypeError",
     "evalue": "list.remove() takes exactly one argument (2 given)",
     "output_type": "error",
     "traceback": [
      "\u001b[1;31m---------------------------------------------------------------------------\u001b[0m",
      "\u001b[1;31mTypeError\u001b[0m                                 Traceback (most recent call last)",
      "Cell \u001b[1;32mIn[23], line 3\u001b[0m\n\u001b[0;32m      1\u001b[0m \u001b[38;5;66;03m#for removing any single item    \u001b[39;00m\n\u001b[0;32m      2\u001b[0m \u001b[38;5;66;03m#listname.revove(item)\u001b[39;00m\n\u001b[1;32m----> 3\u001b[0m \u001b[43mvalues\u001b[49m\u001b[38;5;241;43m.\u001b[39;49m\u001b[43mremove\u001b[49m\u001b[43m(\u001b[49m\u001b[38;5;124;43m'\u001b[39;49m\u001b[38;5;124;43ma\u001b[39;49m\u001b[38;5;124;43m'\u001b[39;49m\u001b[43m,\u001b[49m\u001b[38;5;124;43m'\u001b[39;49m\u001b[38;5;124;43mr\u001b[39;49m\u001b[38;5;124;43m'\u001b[39;49m\u001b[43m)\u001b[49m\n\u001b[0;32m      4\u001b[0m values\n",
      "\u001b[1;31mTypeError\u001b[0m: list.remove() takes exactly one argument (2 given)"
     ]
    }
   ],
   "source": [
    "#for removing any single item    \n",
    "#listname.revove(item)\n",
    "values.remove('a','r')\n",
    "values"
   ]
  },
  {
   "cell_type": "code",
   "execution_count": 24,
   "id": "15e3e7f2",
   "metadata": {},
   "outputs": [
    {
     "data": {
      "text/plain": [
       "[10, 20, 30, 40, 50, 60, 70, 80, 'r', 'k', 'o', 't', 'o', 'ami', 'tumi']"
      ]
     },
     "execution_count": 24,
     "metadata": {},
     "output_type": "execute_result"
    }
   ],
   "source": [
    "values.remove('a')\n",
    "values"
   ]
  },
  {
   "cell_type": "code",
   "execution_count": 25,
   "id": "b3fa55f4",
   "metadata": {},
   "outputs": [
    {
     "data": {
      "text/plain": [
       "'tumi'"
      ]
     },
     "execution_count": 25,
     "metadata": {},
     "output_type": "execute_result"
    }
   ],
   "source": [
    "#for deleting last element\n",
    "values.pop()"
   ]
  },
  {
   "cell_type": "code",
   "execution_count": 26,
   "id": "9f2670e9",
   "metadata": {},
   "outputs": [
    {
     "data": {
      "text/plain": [
       "[10, 20, 30, 40, 50, 60, 70, 80, 'r', 'k', 'o', 't', 'o', 'ami']"
      ]
     },
     "execution_count": 26,
     "metadata": {},
     "output_type": "execute_result"
    }
   ],
   "source": [
    "values"
   ]
  },
  {
   "cell_type": "code",
   "execution_count": 37,
   "id": "60ec2674",
   "metadata": {},
   "outputs": [
    {
     "data": {
      "text/plain": [
       "[10, 20, 30, 40, 50, 80, 'k']"
      ]
     },
     "execution_count": 37,
     "metadata": {},
     "output_type": "execute_result"
    }
   ],
   "source": [
    "#for deleting last 2 no index or 3 no index or any no of index element\n",
    "del values[-1]\n",
    "values"
   ]
  },
  {
   "cell_type": "code",
   "execution_count": 28,
   "id": "86b3be16",
   "metadata": {},
   "outputs": [
    {
     "data": {
      "text/plain": [
       "[10, 20, 30, 40, 50, 60, 70, 80, 'k', 'o', 't', 'o']"
      ]
     },
     "execution_count": 28,
     "metadata": {},
     "output_type": "execute_result"
    }
   ],
   "source": [
    "del values[-5]\n",
    "values"
   ]
  },
  {
   "cell_type": "code",
   "execution_count": 32,
   "id": "010011e8",
   "metadata": {},
   "outputs": [
    {
     "data": {
      "text/plain": [
       "[10, 20, 30, 40, 50, 80, 'k', 'o']"
      ]
     },
     "execution_count": 32,
     "metadata": {},
     "output_type": "execute_result"
    }
   ],
   "source": [
    "del values[-2]\n",
    "values"
   ]
  },
  {
   "cell_type": "code",
   "execution_count": 33,
   "id": "2a1233a2",
   "metadata": {},
   "outputs": [
    {
     "data": {
      "text/plain": [
       "[1, 2, 3, 4, 6]"
      ]
     },
     "execution_count": 33,
     "metadata": {},
     "output_type": "execute_result"
    }
   ],
   "source": [
    "p=[1,2,3,4,5,6]\n",
    "del p[-2]\n",
    "p"
   ]
  },
  {
   "cell_type": "code",
   "execution_count": 34,
   "id": "214120c8",
   "metadata": {},
   "outputs": [],
   "source": [
    "del p[-2]"
   ]
  },
  {
   "cell_type": "code",
   "execution_count": 35,
   "id": "884fd670",
   "metadata": {},
   "outputs": [
    {
     "data": {
      "text/plain": [
       "[1, 2, 3, 6]"
      ]
     },
     "execution_count": 35,
     "metadata": {},
     "output_type": "execute_result"
    }
   ],
   "source": [
    "p"
   ]
  },
  {
   "cell_type": "code",
   "execution_count": 38,
   "id": "0326f4cb",
   "metadata": {},
   "outputs": [],
   "source": [
    "del values[6:]"
   ]
  },
  {
   "cell_type": "code",
   "execution_count": 39,
   "id": "fe7635f8",
   "metadata": {},
   "outputs": [
    {
     "data": {
      "text/plain": [
       "[10, 20, 30, 40, 50, 80]"
      ]
     },
     "execution_count": 39,
     "metadata": {},
     "output_type": "execute_result"
    }
   ],
   "source": [
    "values"
   ]
  },
  {
   "cell_type": "code",
   "execution_count": 40,
   "id": "05f17775",
   "metadata": {},
   "outputs": [
    {
     "data": {
      "text/plain": [
       "[10, 20, 30, 40, 50, 60, 80]"
      ]
     },
     "execution_count": 40,
     "metadata": {},
     "output_type": "execute_result"
    }
   ],
   "source": [
    "values.insert(5,60)\n",
    "values"
   ]
  },
  {
   "cell_type": "code",
   "execution_count": 41,
   "id": "dcc9df42",
   "metadata": {},
   "outputs": [
    {
     "data": {
      "text/plain": [
       "[10, 20, 30, 40, 50, 60, 70, 80]"
      ]
     },
     "execution_count": 41,
     "metadata": {},
     "output_type": "execute_result"
    }
   ],
   "source": [
    "values.insert(6,70)\n",
    "values"
   ]
  },
  {
   "cell_type": "markdown",
   "id": "633921c4",
   "metadata": {},
   "source": [
    "# LIST COUNT"
   ]
  },
  {
   "cell_type": "code",
   "execution_count": 2,
   "id": "088029ff",
   "metadata": {},
   "outputs": [
    {
     "data": {
      "text/plain": [
       "[10, 20, 30, 40, 50, 60, 70, 80]"
      ]
     },
     "execution_count": 2,
     "metadata": {},
     "output_type": "execute_result"
    }
   ],
   "source": [
    "values=[10,20,30,40,50,60,70,80]\n",
    "values"
   ]
  },
  {
   "cell_type": "code",
   "execution_count": 3,
   "id": "fd77b32e",
   "metadata": {},
   "outputs": [
    {
     "data": {
      "text/plain": [
       "[10, 20, 30, 40, 50, 60, 70, 80, 40, 40, 40]"
      ]
     },
     "execution_count": 3,
     "metadata": {},
     "output_type": "execute_result"
    }
   ],
   "source": [
    "values+=[40,40,40]\n",
    "values"
   ]
  },
  {
   "cell_type": "code",
   "execution_count": 4,
   "id": "4823a60f",
   "metadata": {},
   "outputs": [
    {
     "data": {
      "text/plain": [
       "4"
      ]
     },
     "execution_count": 4,
     "metadata": {},
     "output_type": "execute_result"
    }
   ],
   "source": [
    "values.count(40)"
   ]
  },
  {
   "cell_type": "code",
   "execution_count": 21,
   "id": "9e5c51d4",
   "metadata": {},
   "outputs": [
    {
     "data": {
      "text/plain": [
       "[4, 5, 6]"
      ]
     },
     "execution_count": 21,
     "metadata": {},
     "output_type": "execute_result"
    }
   ],
   "source": [
    "u=[4,5,6]\n",
    "u"
   ]
  },
  {
   "cell_type": "code",
   "execution_count": 23,
   "id": "dee597b3",
   "metadata": {},
   "outputs": [
    {
     "data": {
      "text/plain": [
       "[4, 5, 6]"
      ]
     },
     "execution_count": 23,
     "metadata": {},
     "output_type": "execute_result"
    }
   ],
   "source": [
    "u+[7,8,]\n",
    "u"
   ]
  },
  {
   "cell_type": "code",
   "execution_count": 24,
   "id": "8ca01aa3",
   "metadata": {},
   "outputs": [
    {
     "data": {
      "text/plain": [
       "[4, 5, 6, 7, 8]"
      ]
     },
     "execution_count": 24,
     "metadata": {},
     "output_type": "execute_result"
    }
   ],
   "source": [
    "u+=[7,8,]\n",
    "u"
   ]
  },
  {
   "cell_type": "markdown",
   "id": "9f7fbd97",
   "metadata": {},
   "source": [
    "# SORTING"
   ]
  },
  {
   "cell_type": "code",
   "execution_count": 7,
   "id": "1789ba0c",
   "metadata": {},
   "outputs": [
    {
     "data": {
      "text/plain": [
       "['a', 'a', 'b', 'd', 'h', 'i', 's', 't']"
      ]
     },
     "execution_count": 7,
     "metadata": {},
     "output_type": "execute_result"
    }
   ],
   "source": [
    "t=['s','h','a','t','a','b','d','i']\n",
    "sorted(t)"
   ]
  },
  {
   "cell_type": "markdown",
   "id": "afa175b6",
   "metadata": {},
   "source": [
    "# LIST ITEM REPLACEMENT or ITEM ASSIGNMENT"
   ]
  },
  {
   "cell_type": "code",
   "execution_count": 18,
   "id": "17a66500",
   "metadata": {},
   "outputs": [
    {
     "data": {
      "text/plain": [
       "['buet', 'ruet', 'kuet', 'cuet']"
      ]
     },
     "execution_count": 18,
     "metadata": {},
     "output_type": "execute_result"
    }
   ],
   "source": [
    "uni=['buet','ruet','kuet','cuet']\n",
    "uni"
   ]
  },
  {
   "cell_type": "code",
   "execution_count": 19,
   "id": "5dc85d58",
   "metadata": {},
   "outputs": [
    {
     "data": {
      "text/plain": [
       "['buet', 'ruet', 'kuet', 'du']"
      ]
     },
     "execution_count": 19,
     "metadata": {},
     "output_type": "execute_result"
    }
   ],
   "source": [
    "uni[3]='du'\n",
    "uni"
   ]
  },
  {
   "cell_type": "markdown",
   "id": "c6e0d929",
   "metadata": {},
   "source": [
    "# how many items in list?"
   ]
  },
  {
   "cell_type": "code",
   "execution_count": 36,
   "id": "98cae836",
   "metadata": {},
   "outputs": [
    {
     "data": {
      "text/plain": [
       "4"
      ]
     },
     "execution_count": 36,
     "metadata": {},
     "output_type": "execute_result"
    }
   ],
   "source": [
    "len(uni)"
   ]
  },
  {
   "cell_type": "markdown",
   "id": "231ab68e",
   "metadata": {},
   "source": [
    "# TUPLE (item1,item2,....,itemn)"
   ]
  },
  {
   "cell_type": "code",
   "execution_count": 8,
   "id": "db0e6f6b",
   "metadata": {},
   "outputs": [
    {
     "data": {
      "text/plain": [
       "('a', 10, 'b', 80)"
      ]
     },
     "execution_count": 8,
     "metadata": {},
     "output_type": "execute_result"
    }
   ],
   "source": [
    "tup=('a',10,'b',80)\n",
    "tup"
   ]
  },
  {
   "cell_type": "code",
   "execution_count": 9,
   "id": "d3f5f6dc",
   "metadata": {},
   "outputs": [
    {
     "ename": "TypeError",
     "evalue": "type() takes 1 or 3 arguments",
     "output_type": "error",
     "traceback": [
      "\u001b[1;31m---------------------------------------------------------------------------\u001b[0m",
      "\u001b[1;31mTypeError\u001b[0m                                 Traceback (most recent call last)",
      "Cell \u001b[1;32mIn[9], line 1\u001b[0m\n\u001b[1;32m----> 1\u001b[0m \u001b[38;5;28;43mtype\u001b[39;49m\u001b[43m(\u001b[49m\u001b[43mt\u001b[49m\u001b[43m,\u001b[49m\u001b[43mtup\u001b[49m\u001b[43m)\u001b[49m\n",
      "\u001b[1;31mTypeError\u001b[0m: type() takes 1 or 3 arguments"
     ]
    }
   ],
   "source": [
    "type(t,tup)"
   ]
  },
  {
   "cell_type": "code",
   "execution_count": 10,
   "id": "66cb7645",
   "metadata": {},
   "outputs": [
    {
     "data": {
      "text/plain": [
       "(list, tuple)"
      ]
     },
     "execution_count": 10,
     "metadata": {},
     "output_type": "execute_result"
    }
   ],
   "source": [
    "type(t),type(tup)"
   ]
  },
  {
   "cell_type": "code",
   "execution_count": 14,
   "id": "eb029055",
   "metadata": {},
   "outputs": [
    {
     "ename": "TypeError",
     "evalue": "'tuple' object is not callable",
     "output_type": "error",
     "traceback": [
      "\u001b[1;31m---------------------------------------------------------------------------\u001b[0m",
      "\u001b[1;31mTypeError\u001b[0m                                 Traceback (most recent call last)",
      "Cell \u001b[1;32mIn[14], line 2\u001b[0m\n\u001b[0;32m      1\u001b[0m \u001b[38;5;66;03m#tuple indexing same as list\u001b[39;00m\n\u001b[1;32m----> 2\u001b[0m \u001b[43mtup\u001b[49m\u001b[43m(\u001b[49m\u001b[38;5;241;43m2\u001b[39;49m\u001b[43m)\u001b[49m\n",
      "\u001b[1;31mTypeError\u001b[0m: 'tuple' object is not callable"
     ]
    }
   ],
   "source": [
    "#tuple indexing same as list\n",
    "tup(2)"
   ]
  },
  {
   "cell_type": "code",
   "execution_count": 12,
   "id": "e5d35d7d",
   "metadata": {},
   "outputs": [
    {
     "data": {
      "text/plain": [
       "'b'"
      ]
     },
     "execution_count": 12,
     "metadata": {},
     "output_type": "execute_result"
    }
   ],
   "source": [
    "tup[2]"
   ]
  },
  {
   "cell_type": "code",
   "execution_count": 15,
   "id": "9260e57d",
   "metadata": {},
   "outputs": [
    {
     "data": {
      "text/plain": [
       "(10, 'b', 80)"
      ]
     },
     "execution_count": 15,
     "metadata": {},
     "output_type": "execute_result"
    }
   ],
   "source": [
    "#tuple slicing same as list\n",
    "tup[1:]"
   ]
  },
  {
   "cell_type": "code",
   "execution_count": 16,
   "id": "10648bfa",
   "metadata": {},
   "outputs": [
    {
     "ename": "AttributeError",
     "evalue": "'tuple' object has no attribute 'append'",
     "output_type": "error",
     "traceback": [
      "\u001b[1;31m---------------------------------------------------------------------------\u001b[0m",
      "\u001b[1;31mAttributeError\u001b[0m                            Traceback (most recent call last)",
      "Cell \u001b[1;32mIn[16], line 1\u001b[0m\n\u001b[1;32m----> 1\u001b[0m \u001b[43mtup\u001b[49m\u001b[38;5;241;43m.\u001b[39;49m\u001b[43mappend\u001b[49m(\u001b[38;5;241m90\u001b[39m)\n\u001b[0;32m      2\u001b[0m tup\n",
      "\u001b[1;31mAttributeError\u001b[0m: 'tuple' object has no attribute 'append'"
     ]
    }
   ],
   "source": [
    "tup.append(90)\n",
    "tup"
   ]
  },
  {
   "cell_type": "code",
   "execution_count": 17,
   "id": "a146ac2f",
   "metadata": {},
   "outputs": [
    {
     "ename": "AttributeError",
     "evalue": "'tuple' object has no attribute 'insert'",
     "output_type": "error",
     "traceback": [
      "\u001b[1;31m---------------------------------------------------------------------------\u001b[0m",
      "\u001b[1;31mAttributeError\u001b[0m                            Traceback (most recent call last)",
      "Cell \u001b[1;32mIn[17], line 1\u001b[0m\n\u001b[1;32m----> 1\u001b[0m \u001b[43mtup\u001b[49m\u001b[38;5;241;43m.\u001b[39;49m\u001b[43minsert\u001b[49m(\u001b[38;5;241m2\u001b[39m,\u001b[38;5;241m90\u001b[39m)\n\u001b[0;32m      2\u001b[0m tup\n",
      "\u001b[1;31mAttributeError\u001b[0m: 'tuple' object has no attribute 'insert'"
     ]
    }
   ],
   "source": [
    "tup.insert(2,90)\n",
    "tup"
   ]
  },
  {
   "cell_type": "code",
   "execution_count": 20,
   "id": "1305209b",
   "metadata": {},
   "outputs": [
    {
     "ename": "TypeError",
     "evalue": "'tuple' object does not support item assignment",
     "output_type": "error",
     "traceback": [
      "\u001b[1;31m---------------------------------------------------------------------------\u001b[0m",
      "\u001b[1;31mTypeError\u001b[0m                                 Traceback (most recent call last)",
      "Cell \u001b[1;32mIn[20], line 1\u001b[0m\n\u001b[1;32m----> 1\u001b[0m \u001b[43mtup\u001b[49m\u001b[43m[\u001b[49m\u001b[38;5;241;43m2\u001b[39;49m\u001b[43m]\u001b[49m\u001b[38;5;241m=\u001b[39m\u001b[38;5;124m'\u001b[39m\u001b[38;5;124mc\u001b[39m\u001b[38;5;124m'\u001b[39m\n\u001b[0;32m      2\u001b[0m tup\n",
      "\u001b[1;31mTypeError\u001b[0m: 'tuple' object does not support item assignment"
     ]
    }
   ],
   "source": [
    "tup[2]='c'\n",
    "tup"
   ]
  },
  {
   "cell_type": "code",
   "execution_count": 25,
   "id": "05ae42c8",
   "metadata": {},
   "outputs": [
    {
     "data": {
      "text/plain": [
       "('a', 10, 'b', 80)"
      ]
     },
     "execution_count": 25,
     "metadata": {},
     "output_type": "execute_result"
    }
   ],
   "source": [
    "tup"
   ]
  },
  {
   "cell_type": "code",
   "execution_count": 26,
   "id": "a6ad7bdc",
   "metadata": {},
   "outputs": [
    {
     "data": {
      "text/plain": [
       "('a', 10, 'b', 80, 90, 100)"
      ]
     },
     "execution_count": 26,
     "metadata": {},
     "output_type": "execute_result"
    }
   ],
   "source": [
    "tup+(90,100)"
   ]
  },
  {
   "cell_type": "code",
   "execution_count": 27,
   "id": "2f4b9636",
   "metadata": {},
   "outputs": [
    {
     "ename": "TypeError",
     "evalue": "can only concatenate tuple (not \"int\") to tuple",
     "output_type": "error",
     "traceback": [
      "\u001b[1;31m---------------------------------------------------------------------------\u001b[0m",
      "\u001b[1;31mTypeError\u001b[0m                                 Traceback (most recent call last)",
      "Cell \u001b[1;32mIn[27], line 1\u001b[0m\n\u001b[1;32m----> 1\u001b[0m \u001b[43mtup\u001b[49m\u001b[38;5;241;43m+\u001b[39;49m\u001b[43m(\u001b[49m\u001b[38;5;241;43m110\u001b[39;49m\u001b[43m)\u001b[49m\n",
      "\u001b[1;31mTypeError\u001b[0m: can only concatenate tuple (not \"int\") to tuple"
     ]
    }
   ],
   "source": [
    "tup+(110)"
   ]
  },
  {
   "cell_type": "code",
   "execution_count": 28,
   "id": "dbb5bba9",
   "metadata": {},
   "outputs": [
    {
     "data": {
      "text/plain": [
       "('a', 10, 'b', 80, 110)"
      ]
     },
     "execution_count": 28,
     "metadata": {},
     "output_type": "execute_result"
    }
   ],
   "source": [
    "tup+(110,)    #comma is essential"
   ]
  },
  {
   "cell_type": "code",
   "execution_count": 33,
   "id": "5d2a4bc4",
   "metadata": {},
   "outputs": [],
   "source": [
    "tup+=(120,)"
   ]
  },
  {
   "cell_type": "code",
   "execution_count": 34,
   "id": "d34d4cfa",
   "metadata": {},
   "outputs": [
    {
     "data": {
      "text/plain": [
       "('a', 10, 'b', 80, 120, 120, 120)"
      ]
     },
     "execution_count": 34,
     "metadata": {},
     "output_type": "execute_result"
    }
   ],
   "source": [
    "tup"
   ]
  },
  {
   "cell_type": "markdown",
   "id": "965200ee",
   "metadata": {},
   "source": [
    "# how many items in tuple?"
   ]
  },
  {
   "cell_type": "code",
   "execution_count": 35,
   "id": "c731578e",
   "metadata": {},
   "outputs": [
    {
     "data": {
      "text/plain": [
       "7"
      ]
     },
     "execution_count": 35,
     "metadata": {},
     "output_type": "execute_result"
    }
   ],
   "source": [
    "len(tup)"
   ]
  },
  {
   "cell_type": "markdown",
   "id": "deeb3230",
   "metadata": {},
   "source": [
    "# DICTIONARY"
   ]
  },
  {
   "cell_type": "code",
   "execution_count": null,
   "id": "8f7e1397",
   "metadata": {},
   "outputs": [],
   "source": []
  }
 ],
 "metadata": {
  "kernelspec": {
   "display_name": "Python 3 (ipykernel)",
   "language": "python",
   "name": "python3"
  },
  "language_info": {
   "codemirror_mode": {
    "name": "ipython",
    "version": 3
   },
   "file_extension": ".py",
   "mimetype": "text/x-python",
   "name": "python",
   "nbconvert_exporter": "python",
   "pygments_lexer": "ipython3",
   "version": "3.10.10"
  }
 },
 "nbformat": 4,
 "nbformat_minor": 5
}
