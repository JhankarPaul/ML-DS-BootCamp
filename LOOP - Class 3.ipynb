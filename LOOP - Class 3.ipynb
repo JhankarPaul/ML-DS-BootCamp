{
 "cells": [
  {
   "cell_type": "markdown",
   "id": "dc6e84aa",
   "metadata": {},
   "source": [
    "# IF"
   ]
  },
  {
   "cell_type": "code",
   "execution_count": 2,
   "id": "20081ca7",
   "metadata": {},
   "outputs": [
    {
     "ename": "IndentationError",
     "evalue": "expected an indented block after 'if' statement on line 3 (75276829.py, line 4)",
     "output_type": "error",
     "traceback": [
      "\u001b[1;36m  Cell \u001b[1;32mIn[2], line 4\u001b[1;36m\u001b[0m\n\u001b[1;33m    print(a)\u001b[0m\n\u001b[1;37m    ^\u001b[0m\n\u001b[1;31mIndentationError\u001b[0m\u001b[1;31m:\u001b[0m expected an indented block after 'if' statement on line 3\n"
     ]
    }
   ],
   "source": [
    "a=10\n",
    "b=5\n",
    "if a>b:\n",
    "print(a)"
   ]
  },
  {
   "cell_type": "code",
   "execution_count": 7,
   "id": "11ed87ce",
   "metadata": {},
   "outputs": [
    {
     "ename": "SyntaxError",
     "evalue": "invalid syntax (4066997666.py, line 5)",
     "output_type": "error",
     "traceback": [
      "\u001b[1;36m  Cell \u001b[1;32mIn[7], line 5\u001b[1;36m\u001b[0m\n\u001b[1;33m    else:\u001b[0m\n\u001b[1;37m    ^\u001b[0m\n\u001b[1;31mSyntaxError\u001b[0m\u001b[1;31m:\u001b[0m invalid syntax\n"
     ]
    }
   ],
   "source": [
    "a=10\n",
    "b=5\n",
    "if a>b:\n",
    "    print(a)\n",
    "    else:\n",
    "        print(b)"
   ]
  },
  {
   "cell_type": "code",
   "execution_count": 8,
   "id": "1faafd1b",
   "metadata": {},
   "outputs": [
    {
     "name": "stdout",
     "output_type": "stream",
     "text": [
      "b is large\n"
     ]
    }
   ],
   "source": [
    "a=5\n",
    "b=20\n",
    "if a>b:\n",
    "    print(\"a is large\")\n",
    "else:\n",
    "    print(\"b is large\")"
   ]
  },
  {
   "cell_type": "code",
   "execution_count": 11,
   "id": "afa12f2d",
   "metadata": {},
   "outputs": [
    {
     "name": "stdout",
     "output_type": "stream",
     "text": [
      "5\n",
      "5\n",
      "5\n",
      "20\n"
     ]
    }
   ],
   "source": [
    "a=5                   #indentation effect\n",
    "b=20\n",
    "if a<b:\n",
    "    print(a)\n",
    "    print(a)\n",
    "    print(a)\n",
    "print(b)"
   ]
  },
  {
   "cell_type": "code",
   "execution_count": 16,
   "id": "b2e95dd1",
   "metadata": {},
   "outputs": [
    {
     "name": "stdout",
     "output_type": "stream",
     "text": [
      "equal\n"
     ]
    }
   ],
   "source": [
    "a=20\n",
    "b=20\n",
    "if a>b:\n",
    "    print(\"a\")\n",
    "elif a==b:\n",
    "    print(\"equal\")\n",
    "else:\n",
    "    print(\"b\")"
   ]
  },
  {
   "cell_type": "markdown",
   "id": "6fe04609",
   "metadata": {},
   "source": [
    "# NESTED IF"
   ]
  },
  {
   "cell_type": "code",
   "execution_count": 3,
   "id": "785a6346",
   "metadata": {},
   "outputs": [
    {
     "name": "stdout",
     "output_type": "stream",
     "text": [
      "200\n"
     ]
    }
   ],
   "source": [
    "a=50\n",
    "b=20\n",
    "c=200\n",
    "if a>b:\n",
    "    if a>c:\n",
    "        print(a)\n",
    "    else:\n",
    "        print(c)\n",
    "else:\n",
    "    if b>c:\n",
    "        print(b)\n",
    "    else:\n",
    "        print(c)"
   ]
  },
  {
   "cell_type": "code",
   "execution_count": 1,
   "id": "a8f02413",
   "metadata": {},
   "outputs": [
    {
     "name": "stdout",
     "output_type": "stream",
     "text": [
      "b\n"
     ]
    }
   ],
   "source": [
    "a=50\n",
    "b=200\n",
    "c=80\n",
    "if ((a>b) & (a>c)):\n",
    "    print(\"a\")\n",
    "else:\n",
    "    if (b>c):\n",
    "        print(\"b\")\n",
    "    elif (c>b):\n",
    "        print(\"c\")"
   ]
  },
  {
   "cell_type": "markdown",
   "id": "5fc536dd",
   "metadata": {},
   "source": [
    "# LOOP (for, while)"
   ]
  },
  {
   "cell_type": "markdown",
   "id": "db104e75",
   "metadata": {},
   "source": [
    "# WHILE"
   ]
  },
  {
   "cell_type": "code",
   "execution_count": 2,
   "id": "32cbe7ea",
   "metadata": {},
   "outputs": [
    {
     "name": "stdout",
     "output_type": "stream",
     "text": [
      "2\n"
     ]
    },
    {
     "ename": "TypeError",
     "evalue": "'<=' not supported between instances of 'str' and 'int'",
     "output_type": "error",
     "traceback": [
      "\u001b[1;31m---------------------------------------------------------------------------\u001b[0m",
      "\u001b[1;31mTypeError\u001b[0m                                 Traceback (most recent call last)",
      "Cell \u001b[1;32mIn[2], line 2\u001b[0m\n\u001b[0;32m      1\u001b[0m n\u001b[38;5;241m=\u001b[39m\u001b[38;5;28minput\u001b[39m()\n\u001b[1;32m----> 2\u001b[0m \u001b[38;5;28;01mwhile\u001b[39;00m \u001b[43mn\u001b[49m\u001b[38;5;241;43m<\u001b[39;49m\u001b[38;5;241;43m=\u001b[39;49m\u001b[38;5;241;43m10\u001b[39;49m:\n\u001b[0;32m      3\u001b[0m     \u001b[38;5;28mprint\u001b[39m(n)\n\u001b[0;32m      4\u001b[0m     n\u001b[38;5;241m+\u001b[39m\u001b[38;5;241m=\u001b[39m\u001b[38;5;241m1\u001b[39m\n",
      "\u001b[1;31mTypeError\u001b[0m: '<=' not supported between instances of 'str' and 'int'"
     ]
    }
   ],
   "source": [
    "n=input()\n",
    "while n<=10:\n",
    "    print(n)\n",
    "    n+=1"
   ]
  },
  {
   "cell_type": "code",
   "execution_count": 2,
   "id": "2801796b",
   "metadata": {},
   "outputs": [
    {
     "name": "stdout",
     "output_type": "stream",
     "text": [
      "2\n",
      "The series is:\n",
      "2\n",
      "4\n",
      "6\n",
      "8\n",
      "10\n",
      "DONE\n"
     ]
    }
   ],
   "source": [
    "n=int(input())\n",
    "print(\"The series is:\")\n",
    "while n<=10:\n",
    "    print(n)\n",
    "    n+=2\n",
    "print(\"DONE\")"
   ]
  },
  {
   "cell_type": "markdown",
   "id": "e4f3d111",
   "metadata": {},
   "source": [
    "# BREAK"
   ]
  },
  {
   "cell_type": "code",
   "execution_count": 5,
   "id": "42fc3c93",
   "metadata": {},
   "outputs": [
    {
     "name": "stdout",
     "output_type": "stream",
     "text": [
      "1\n",
      "The series is:\n",
      "1\n",
      "3\n",
      "DONE\n"
     ]
    }
   ],
   "source": [
    "n=int(input())\n",
    "print(\"The series is:\")\n",
    "while n<=10:\n",
    "    if n==5:\n",
    "        break\n",
    "    print(n)\n",
    "    n+=2\n",
    "print(\"DONE\")"
   ]
  },
  {
   "cell_type": "markdown",
   "id": "59aff631",
   "metadata": {},
   "source": [
    "# CONTINUE"
   ]
  },
  {
   "cell_type": "code",
   "execution_count": 8,
   "id": "284ea1af",
   "metadata": {},
   "outputs": [
    {
     "name": "stdout",
     "output_type": "stream",
     "text": [
      "The series is:\n",
      "1\n",
      "3\n",
      "7\n",
      "9\n",
      "DONE\n"
     ]
    }
   ],
   "source": [
    "n=1\n",
    "print(\"The series is:\")\n",
    "while n<=10:\n",
    "    if n==5:\n",
    "        n+=2\n",
    "        continue\n",
    "    print(n)\n",
    "    n+=2\n",
    "print(\"DONE\")"
   ]
  },
  {
   "cell_type": "markdown",
   "id": "c25f12c1",
   "metadata": {},
   "source": [
    "# FOR    ( for i in range(initial range, condition check, increament): )"
   ]
  },
  {
   "cell_type": "code",
   "execution_count": 9,
   "id": "4d301028",
   "metadata": {},
   "outputs": [
    {
     "ename": "SyntaxError",
     "evalue": "expected ':' (2733300111.py, line 1)",
     "output_type": "error",
     "traceback": [
      "\u001b[1;36m  Cell \u001b[1;32mIn[9], line 1\u001b[1;36m\u001b[0m\n\u001b[1;33m    for i in range(10)\u001b[0m\n\u001b[1;37m                      ^\u001b[0m\n\u001b[1;31mSyntaxError\u001b[0m\u001b[1;31m:\u001b[0m expected ':'\n"
     ]
    }
   ],
   "source": [
    "for i in range(10)\n",
    "    print(i)"
   ]
  },
  {
   "cell_type": "code",
   "execution_count": 10,
   "id": "6573a66f",
   "metadata": {},
   "outputs": [
    {
     "name": "stdout",
     "output_type": "stream",
     "text": [
      "0\n",
      "1\n",
      "2\n",
      "3\n",
      "4\n",
      "5\n",
      "6\n",
      "7\n",
      "8\n",
      "9\n"
     ]
    }
   ],
   "source": [
    "for i in range(10):\n",
    "    print(i)"
   ]
  },
  {
   "cell_type": "code",
   "execution_count": 11,
   "id": "c7079d88",
   "metadata": {},
   "outputs": [
    {
     "name": "stdout",
     "output_type": "stream",
     "text": [
      "2\n",
      "3\n",
      "4\n",
      "5\n",
      "6\n",
      "7\n",
      "8\n",
      "9\n"
     ]
    }
   ],
   "source": [
    "for i in range(2,10):\n",
    "    print(i)"
   ]
  },
  {
   "cell_type": "code",
   "execution_count": 16,
   "id": "793676c3",
   "metadata": {},
   "outputs": [
    {
     "name": "stdout",
     "output_type": "stream",
     "text": [
      "5\n",
      "7\n",
      "9\n"
     ]
    }
   ],
   "source": [
    "for i in range(5,11,2):\n",
    "    print(i)"
   ]
  },
  {
   "cell_type": "code",
   "execution_count": 17,
   "id": "a3c5f2ef",
   "metadata": {},
   "outputs": [
    {
     "name": "stdout",
     "output_type": "stream",
     "text": [
      "tomato\n",
      "potato\n",
      "sweet\n"
     ]
    }
   ],
   "source": [
    "veg=['tomato','potato','sweet']    #using LIST\n",
    "for v in veg:\n",
    "    print(v)"
   ]
  },
  {
   "cell_type": "code",
   "execution_count": 23,
   "id": "743bcdea",
   "metadata": {},
   "outputs": [
    {
     "name": "stdout",
     "output_type": "stream",
     "text": [
      "t\n",
      "p\n",
      "s\n"
     ]
    }
   ],
   "source": [
    "veg={'t':'tomato','p':'potato','s':'sweet'}    #using dictionary (for printing dictionary keys)\n",
    "for v in veg:\n",
    "    print(v)"
   ]
  },
  {
   "cell_type": "code",
   "execution_count": 24,
   "id": "ae77a94c",
   "metadata": {},
   "outputs": [
    {
     "ename": "NameError",
     "evalue": "name 'values' is not defined",
     "output_type": "error",
     "traceback": [
      "\u001b[1;31m---------------------------------------------------------------------------\u001b[0m",
      "\u001b[1;31mNameError\u001b[0m                                 Traceback (most recent call last)",
      "Cell \u001b[1;32mIn[24], line 3\u001b[0m\n\u001b[0;32m      1\u001b[0m veg\u001b[38;5;241m=\u001b[39m{\u001b[38;5;124m'\u001b[39m\u001b[38;5;124mt\u001b[39m\u001b[38;5;124m'\u001b[39m:\u001b[38;5;124m'\u001b[39m\u001b[38;5;124mtomato\u001b[39m\u001b[38;5;124m'\u001b[39m,\u001b[38;5;124m'\u001b[39m\u001b[38;5;124mp\u001b[39m\u001b[38;5;124m'\u001b[39m:\u001b[38;5;124m'\u001b[39m\u001b[38;5;124mpotato\u001b[39m\u001b[38;5;124m'\u001b[39m,\u001b[38;5;124m'\u001b[39m\u001b[38;5;124ms\u001b[39m\u001b[38;5;124m'\u001b[39m:\u001b[38;5;124m'\u001b[39m\u001b[38;5;124msweet\u001b[39m\u001b[38;5;124m'\u001b[39m}    \u001b[38;5;66;03m#using dictionary \u001b[39;00m\n\u001b[0;32m      2\u001b[0m \u001b[38;5;28;01mfor\u001b[39;00m v \u001b[38;5;129;01min\u001b[39;00m veg:\n\u001b[1;32m----> 3\u001b[0m     \u001b[38;5;28mprint\u001b[39m(v,\u001b[43mvalues\u001b[49m)\n",
      "\u001b[1;31mNameError\u001b[0m: name 'values' is not defined"
     ]
    }
   ],
   "source": [
    "veg={'t':'tomato','p':'potato','s':'sweet'}    #using dictionary \n",
    "for v in veg:\n",
    "    print(v,values)"
   ]
  },
  {
   "cell_type": "code",
   "execution_count": 25,
   "id": "aca2c175",
   "metadata": {},
   "outputs": [
    {
     "name": "stdout",
     "output_type": "stream",
     "text": [
      "tomato\n",
      "potato\n",
      "sweet\n"
     ]
    }
   ],
   "source": [
    "veg={'t':'tomato','p':'potato','s':'sweet'}    #using dictionary (for printing dictionary values)\n",
    "for v in veg.values():\n",
    "    print(v)"
   ]
  },
  {
   "cell_type": "code",
   "execution_count": 37,
   "id": "2678a02d",
   "metadata": {},
   "outputs": [
    {
     "name": "stdout",
     "output_type": "stream",
     "text": [
      "10 X  1 = 10\n",
      "10 X  2 = 20\n",
      "10 X  3 = 30\n",
      "10 X  4 = 40\n",
      "10 X  5 = 50\n",
      "10 X  6 = 60\n",
      "10 X  7 = 70\n",
      "10 X  8 = 80\n",
      "10 X  9 = 90\n",
      "10 X  10 = 100\n"
     ]
    }
   ],
   "source": [
    "# 10 er namota using FOR LOOP\n",
    "for i in range(1,11):\n",
    "    print(\"10 X \",i,\"=\",10*i)"
   ]
  },
  {
   "cell_type": "code",
   "execution_count": 42,
   "id": "f37a425f",
   "metadata": {},
   "outputs": [
    {
     "name": "stdout",
     "output_type": "stream",
     "text": [
      "10 X  1 = 10\n",
      "10 X  2 = 20\n",
      "10 X  3 = 30\n",
      "10 X  4 = 40\n",
      "10 X  5 = 50\n",
      "10 X  6 = 60\n",
      "10 X  7 = 70\n",
      "10 X  8 = 80\n",
      "10 X  9 = 90\n",
      "10 X  10 = 100\n"
     ]
    }
   ],
   "source": [
    "# 10 er namota using WHILE LOOP\n",
    "i=1\n",
    "while i<=10:\n",
    "    print(\"10 X \",i,\"=\",10*i)\n",
    "    i+=1"
   ]
  },
  {
   "cell_type": "code",
   "execution_count": 11,
   "id": "82278e43",
   "metadata": {},
   "outputs": [
    {
     "name": "stdout",
     "output_type": "stream",
     "text": [
      "10 x 1 = 10\n",
      "10 x 2 = 20\n",
      "10 x 3 = 30\n",
      "10 x 4 = 40\n"
     ]
    }
   ],
   "source": [
    "# 10 er namota using WHILE LOOP and BREAK\n",
    "j=10\n",
    "for i in range (1,10):\n",
    "    print(j,\"x\",i,\"=\",j*i)\n",
    "    if i==4:\n",
    "        break\n",
    "    i+=1"
   ]
  },
  {
   "cell_type": "code",
   "execution_count": 17,
   "id": "48c5cb5e",
   "metadata": {},
   "outputs": [
    {
     "name": "stdout",
     "output_type": "stream",
     "text": [
      "shatabdi\n",
      "somu\n"
     ]
    }
   ],
   "source": [
    "n=['shatabdi','somu']\n",
    "for num in n:\n",
    "    print(num)"
   ]
  },
  {
   "cell_type": "code",
   "execution_count": 18,
   "id": "84019dfb",
   "metadata": {},
   "outputs": [
    {
     "name": "stdout",
     "output_type": "stream",
     "text": [
      "1\n",
      "8\n",
      "7\n"
     ]
    }
   ],
   "source": [
    "numbers=[1,8,9,7,10,50]\n",
    "for n in numbers:\n",
    "    if n<9:\n",
    "        print(n)"
   ]
  },
  {
   "cell_type": "code",
   "execution_count": 19,
   "id": "220a7a8b",
   "metadata": {},
   "outputs": [
    {
     "name": "stdout",
     "output_type": "stream",
     "text": [
      "1\n",
      "8\n",
      "9\n",
      "7\n"
     ]
    }
   ],
   "source": [
    "numbers=[1,8,9,7,10,50]\n",
    "for n in numbers:\n",
    "    if n<10:\n",
    "        print(n)"
   ]
  }
 ],
 "metadata": {
  "kernelspec": {
   "display_name": "Python 3 (ipykernel)",
   "language": "python",
   "name": "python3"
  },
  "language_info": {
   "codemirror_mode": {
    "name": "ipython",
    "version": 3
   },
   "file_extension": ".py",
   "mimetype": "text/x-python",
   "name": "python",
   "nbconvert_exporter": "python",
   "pygments_lexer": "ipython3",
   "version": "3.10.10"
  }
 },
 "nbformat": 4,
 "nbformat_minor": 5
}
